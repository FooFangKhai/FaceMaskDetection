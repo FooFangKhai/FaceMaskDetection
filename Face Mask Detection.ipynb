{
 "cells": [
  {
   "cell_type": "markdown",
   "id": "928a8416",
   "metadata": {},
   "source": [
    "### Face Mask Detection Using :\n",
    "- CNN"
   ]
  },
  {
   "cell_type": "markdown",
   "id": "db8ce437",
   "metadata": {},
   "source": [
    "1. Student Name: Foo Fang Khai\n",
    "2. Student ID: 0134196"
   ]
  },
  {
   "cell_type": "markdown",
   "id": "85bda5c0",
   "metadata": {},
   "source": [
    "## Web Scrapping - To Make The Dataset To Be Unbalance"
   ]
  },
  {
   "cell_type": "code",
   "execution_count": 1,
   "id": "b5d59d7e",
   "metadata": {
    "scrolled": false
   },
   "outputs": [
    {
     "name": "stdout",
     "output_type": "stream",
     "text": [
      "Requirement already satisfied: selenium in /Library/Frameworks/Python.framework/Versions/3.11/lib/python3.11/site-packages (4.12.0)\n",
      "Requirement already satisfied: urllib3[socks]<3,>=1.26 in /Library/Frameworks/Python.framework/Versions/3.11/lib/python3.11/site-packages (from selenium) (1.26.16)\n",
      "Requirement already satisfied: trio~=0.17 in /Library/Frameworks/Python.framework/Versions/3.11/lib/python3.11/site-packages (from selenium) (0.22.2)\n",
      "Requirement already satisfied: trio-websocket~=0.9 in /Library/Frameworks/Python.framework/Versions/3.11/lib/python3.11/site-packages (from selenium) (0.10.4)\n",
      "Requirement already satisfied: certifi>=2021.10.8 in /Library/Frameworks/Python.framework/Versions/3.11/lib/python3.11/site-packages (from selenium) (2023.5.7)\n",
      "Requirement already satisfied: attrs>=20.1.0 in /Library/Frameworks/Python.framework/Versions/3.11/lib/python3.11/site-packages (from trio~=0.17->selenium) (23.1.0)\n",
      "Requirement already satisfied: sortedcontainers in /Library/Frameworks/Python.framework/Versions/3.11/lib/python3.11/site-packages (from trio~=0.17->selenium) (2.4.0)\n",
      "Requirement already satisfied: idna in /Library/Frameworks/Python.framework/Versions/3.11/lib/python3.11/site-packages (from trio~=0.17->selenium) (3.4)\n",
      "Requirement already satisfied: outcome in /Library/Frameworks/Python.framework/Versions/3.11/lib/python3.11/site-packages (from trio~=0.17->selenium) (1.2.0)\n",
      "Requirement already satisfied: sniffio in /Library/Frameworks/Python.framework/Versions/3.11/lib/python3.11/site-packages (from trio~=0.17->selenium) (1.3.0)\n",
      "Requirement already satisfied: exceptiongroup in /Library/Frameworks/Python.framework/Versions/3.11/lib/python3.11/site-packages (from trio-websocket~=0.9->selenium) (1.1.3)\n",
      "Requirement already satisfied: wsproto>=0.14 in /Library/Frameworks/Python.framework/Versions/3.11/lib/python3.11/site-packages (from trio-websocket~=0.9->selenium) (1.2.0)\n",
      "Requirement already satisfied: PySocks!=1.5.7,<2.0,>=1.5.6 in /Library/Frameworks/Python.framework/Versions/3.11/lib/python3.11/site-packages (from urllib3[socks]<3,>=1.26->selenium) (1.7.1)\n",
      "Requirement already satisfied: h11<1,>=0.9.0 in /Library/Frameworks/Python.framework/Versions/3.11/lib/python3.11/site-packages (from wsproto>=0.14->trio-websocket~=0.9->selenium) (0.14.0)\n"
     ]
    }
   ],
   "source": [
    "# Installing selenium for web scrapping\n",
    "!pip install selenium"
   ]
  },
  {
   "cell_type": "code",
   "execution_count": 2,
   "id": "89132d1c",
   "metadata": {
    "collapsed": true,
    "scrolled": true
   },
   "outputs": [],
   "source": [
    "# Import libaries needed for web scrapping\n",
    "import os\n",
    "import time\n",
    "import pandas as pd\n",
    "import urllib.request\n",
    "from selenium import webdriver\n",
    "from selenium.webdriver.common.keys import Keys"
   ]
  },
  {
   "cell_type": "markdown",
   "id": "db16ef52",
   "metadata": {},
   "source": [
    "### Web Scrapping For People Wearing Face Mask"
   ]
  },
  {
   "cell_type": "code",
   "execution_count": 3,
   "id": "ee993278",
   "metadata": {
    "collapsed": true,
    "scrolled": true
   },
   "outputs": [],
   "source": [
    "driver = webdriver.Chrome()\n",
    "driver.get(\"https://google.com/\")"
   ]
  },
  {
   "cell_type": "code",
   "execution_count": 4,
   "id": "0fcf5095",
   "metadata": {
    "collapsed": true,
    "scrolled": true
   },
   "outputs": [],
   "source": [
    "search = driver.find_element(\"name\", \"q\")\n",
    "search.send_keys(\"Girls selfie with mask\", Keys.ENTER)"
   ]
  },
  {
   "cell_type": "code",
   "execution_count": 5,
   "id": "150b40c2",
   "metadata": {
    "collapsed": true,
    "scrolled": true
   },
   "outputs": [],
   "source": [
    "element = driver.find_element(\"link text\", \"Images\")\n",
    "element.get_attribute(\"href\")\n",
    "element.click()"
   ]
  },
  {
   "cell_type": "code",
   "execution_count": 6,
   "id": "907d6427",
   "metadata": {
    "collapsed": true,
    "scrolled": true
   },
   "outputs": [],
   "source": [
    "value = 0\n",
    "for i in range(2500):\n",
    "    if os.path.exists(\"/Users/_fangkhai/Documents/Academic/Computer Science Semester 7/Image Processing and Computer Vision/Materials/Assignment Dataset/WithMask\"):\n",
    "        print(\"File exists. Stopping execution.\")\n",
    "        break \n",
    "    driver.execute_script('scrollBy('+ str(value) +', +2500);')\n",
    "    value += 2500\n",
    "    time.sleep(2)"
   ]
  },
  {
   "cell_type": "code",
   "execution_count": 7,
   "id": "215b8127",
   "metadata": {
    "collapsed": true,
    "scrolled": true
   },
   "outputs": [],
   "source": [
    "elements = driver.find_elements(\"xpath\", '//img[contains(@class,\"rg_i\") and contains(@class, \"Q4LuWd\")]')"
   ]
  },
  {
   "cell_type": "code",
   "execution_count": 8,
   "id": "c6ba457e",
   "metadata": {
    "collapsed": true,
    "scrolled": true
   },
   "outputs": [],
   "source": [
    "try:\n",
    "    os.mkdir(\"WithMask\")\n",
    "except FileExistsError:\n",
    "    pass"
   ]
  },
  {
   "cell_type": "code",
   "execution_count": 9,
   "id": "9b13a78a",
   "metadata": {
    "scrolled": false
   },
   "outputs": [
    {
     "name": "stdout",
     "output_type": "stream",
     "text": [
      "downloaded 10 images\n",
      "downloaded 20 images\n",
      "downloaded 30 images\n",
      "downloaded 40 images\n",
      "downloaded 50 images\n",
      "downloaded 60 images\n",
      "downloaded 70 images\n",
      "downloaded 80 images\n",
      "downloaded 90 images\n",
      "downloaded 100 images\n",
      "downloaded 110 images\n",
      "downloaded 120 images\n",
      "downloaded 130 images\n",
      "downloaded 140 images\n",
      "downloaded 150 images\n",
      "downloaded 160 images\n",
      "downloaded 170 images\n",
      "downloaded 180 images\n",
      "downloaded 190 images\n",
      "downloaded 200 images\n",
      "downloaded 210 images\n",
      "downloaded 220 images\n",
      "downloaded 230 images\n",
      "downloaded 240 images\n",
      "downloaded 250 images\n",
      "downloaded 260 images\n",
      "downloaded 270 images\n",
      "downloaded 280 images\n",
      "downloaded 290 images\n",
      "downloaded 300 images\n",
      "downloaded 310 images\n",
      "downloaded 320 images\n",
      "downloaded 330 images\n",
      "downloaded 340 images\n",
      "downloaded 350 images\n",
      "downloaded 360 images\n",
      "downloaded 370 images\n",
      "downloaded 380 images\n",
      "downloaded 390 images\n",
      "downloaded 400 images\n",
      "downloaded 410 images\n",
      "downloaded 420 images\n",
      "downloaded 430 images\n",
      "downloaded 440 images\n",
      "downloaded 450 images\n",
      "downloaded 460 images\n",
      "downloaded 470 images\n",
      "downloaded 480 images\n",
      "downloaded 490 images\n",
      "downloaded 500 images\n",
      "downloaded 510 images\n",
      "downloaded 520 images\n",
      "downloaded 530 images\n",
      "downloaded 540 images\n",
      "downloaded 550 images\n",
      "downloaded 560 images\n",
      "downloaded 570 images\n",
      "downloaded 580 images\n",
      "downloaded 590 images\n",
      "downloaded 600 images\n",
      "downloaded 610 images\n",
      "downloaded 620 images\n",
      "downloaded 630 images\n",
      "downloaded 640 images\n"
     ]
    }
   ],
   "source": [
    "count = 0\n",
    "for i in elements:\n",
    "    src = i.get_attribute('src')\n",
    "    try:\n",
    "        if src != None:\n",
    "            src  = str(src)\n",
    "            count += 1\n",
    "            urllib.request.urlretrieve(src, os.path.join('WithMask','image' + str(count) + '.jpg'))\n",
    "            if count%10 == 0: print(\"downloaded\", count, \"images\")\n",
    "        else:\n",
    "            raise TypeError\n",
    "    except TypeError:\n",
    "        pass"
   ]
  },
  {
   "cell_type": "code",
   "execution_count": 10,
   "id": "211abce1",
   "metadata": {
    "collapsed": true,
    "scrolled": true
   },
   "outputs": [],
   "source": [
    "driver.back()"
   ]
  },
  {
   "cell_type": "code",
   "execution_count": 11,
   "id": "3d47c873",
   "metadata": {
    "collapsed": true,
    "scrolled": true
   },
   "outputs": [],
   "source": [
    "search = driver.find_element(\"name\", \"q\")\n",
    "search.clear()\n",
    "search.send_keys(\"Boys selfie with mask\", Keys.ENTER)"
   ]
  },
  {
   "cell_type": "code",
   "execution_count": 12,
   "id": "5c56fc53",
   "metadata": {
    "collapsed": true,
    "scrolled": true
   },
   "outputs": [],
   "source": [
    "element = driver.find_element(\"link text\", \"Images\")\n",
    "element.get_attribute(\"href\")\n",
    "element.click()"
   ]
  },
  {
   "cell_type": "code",
   "execution_count": 13,
   "id": "5902399d",
   "metadata": {
    "collapsed": true,
    "scrolled": true
   },
   "outputs": [],
   "source": [
    "value = 0\n",
    "for i in range(2500): \n",
    "    if os.path.exists(\"/Users/_fangkhai/Documents/Academic/Computer Science Semester 7/Image Processing and Computer Vision/Materials/Assignment Dataset/WithMask\"):\n",
    "        print(\"File exists. Stopping execution.\")\n",
    "        break \n",
    "    driver.execute_script('scrollBy(\"+ str(value) +\", +2500);')\n",
    "    value += 2500\n",
    "    time.sleep(2)"
   ]
  },
  {
   "cell_type": "code",
   "execution_count": 14,
   "id": "3b7c495d",
   "metadata": {
    "collapsed": true,
    "scrolled": true
   },
   "outputs": [],
   "source": [
    "elements = driver.find_elements(\"xpath\", '//img[contains(@class,\"rg_i\") and contains(@class, \"Q4LuWd\")]')"
   ]
  },
  {
   "cell_type": "code",
   "execution_count": 15,
   "id": "749fa4af",
   "metadata": {
    "scrolled": false
   },
   "outputs": [
    {
     "name": "stdout",
     "output_type": "stream",
     "text": [
      "downloaded 650 images\n",
      "downloaded 660 images\n",
      "downloaded 670 images\n",
      "downloaded 680 images\n",
      "downloaded 690 images\n",
      "downloaded 700 images\n",
      "downloaded 710 images\n",
      "downloaded 720 images\n",
      "downloaded 730 images\n",
      "downloaded 740 images\n",
      "downloaded 750 images\n",
      "downloaded 760 images\n",
      "downloaded 770 images\n",
      "downloaded 780 images\n",
      "downloaded 790 images\n",
      "downloaded 800 images\n",
      "downloaded 810 images\n",
      "downloaded 820 images\n",
      "downloaded 830 images\n",
      "downloaded 840 images\n",
      "downloaded 850 images\n",
      "downloaded 860 images\n",
      "downloaded 870 images\n",
      "downloaded 880 images\n",
      "downloaded 890 images\n",
      "downloaded 900 images\n",
      "downloaded 910 images\n",
      "downloaded 920 images\n",
      "downloaded 930 images\n",
      "downloaded 940 images\n",
      "downloaded 950 images\n",
      "downloaded 960 images\n",
      "downloaded 970 images\n",
      "downloaded 980 images\n",
      "downloaded 990 images\n",
      "downloaded 1000 images\n",
      "downloaded 1010 images\n",
      "downloaded 1020 images\n"
     ]
    }
   ],
   "source": [
    "for i in elements:\n",
    "    src = i.get_attribute('src')\n",
    "    try:\n",
    "        if src != None:\n",
    "            src  = str(src)\n",
    "            count += 1\n",
    "            urllib.request.urlretrieve(src, os.path.join('WithMask','image' + str(count) + '.jpg'))\n",
    "            if count%10 == 0: print(\"downloaded\", count, \"images\")\n",
    "        else:\n",
    "            raise TypeError\n",
    "    except TypeError:\n",
    "        pass"
   ]
  },
  {
   "cell_type": "markdown",
   "id": "14d25b82",
   "metadata": {},
   "source": [
    "### Web Scrapping For People Without Wearing Face Mask"
   ]
  },
  {
   "cell_type": "code",
   "execution_count": 16,
   "id": "d233765a",
   "metadata": {
    "collapsed": true,
    "scrolled": true
   },
   "outputs": [],
   "source": [
    "driver.back()"
   ]
  },
  {
   "cell_type": "code",
   "execution_count": 17,
   "id": "48e4245e",
   "metadata": {
    "collapsed": true,
    "scrolled": true
   },
   "outputs": [],
   "source": [
    "search = driver.find_element(\"name\", \"q\")\n",
    "search.clear()\n",
    "search.send_keys(\"Girl\", Keys.ENTER)"
   ]
  },
  {
   "cell_type": "code",
   "execution_count": 18,
   "id": "5e8159e1",
   "metadata": {
    "collapsed": true,
    "scrolled": true
   },
   "outputs": [],
   "source": [
    "element = driver.find_element(\"link text\", \"Images\")\n",
    "element.get_attribute(\"href\")\n",
    "element.click()"
   ]
  },
  {
   "cell_type": "code",
   "execution_count": 19,
   "id": "02ee2dce",
   "metadata": {
    "collapsed": true,
    "scrolled": true
   },
   "outputs": [],
   "source": [
    "value = 0\n",
    "for i in range(1500): \n",
    "    if os.path.exists(\"/Users/_fangkhai/Documents/Academic/Computer Science Semester 7/Image Processing and Computer Vision/Materials/Assignment Dataset/WithoutMask\"):\n",
    "        print(\"File exists. Stopping execution.\")\n",
    "        break \n",
    "    driver.execute_script('scrollBy(\"+ str(value) +\", +1500);')\n",
    "    value += 1500\n",
    "    time.sleep(2)"
   ]
  },
  {
   "cell_type": "code",
   "execution_count": 20,
   "id": "39cbf911",
   "metadata": {
    "collapsed": true,
    "scrolled": true
   },
   "outputs": [],
   "source": [
    "elements = driver.find_elements(\"xpath\", '//img[contains(@class,\"rg_i\") and contains(@class, \"Q4LuWd\")]')"
   ]
  },
  {
   "cell_type": "code",
   "execution_count": 21,
   "id": "ac052882",
   "metadata": {
    "collapsed": true,
    "scrolled": true
   },
   "outputs": [],
   "source": [
    "try:\n",
    "    os.mkdir(\"WithoutMask\")\n",
    "except FileExistsError:\n",
    "    pass"
   ]
  },
  {
   "cell_type": "code",
   "execution_count": 22,
   "id": "f8ad4361",
   "metadata": {
    "scrolled": false
   },
   "outputs": [
    {
     "name": "stdout",
     "output_type": "stream",
     "text": [
      "downloaded 10 images\n",
      "downloaded 20 images\n",
      "downloaded 30 images\n",
      "downloaded 40 images\n",
      "downloaded 50 images\n",
      "downloaded 60 images\n",
      "downloaded 70 images\n",
      "downloaded 80 images\n",
      "downloaded 90 images\n",
      "downloaded 100 images\n",
      "downloaded 110 images\n",
      "downloaded 120 images\n",
      "downloaded 130 images\n",
      "downloaded 140 images\n",
      "downloaded 150 images\n",
      "downloaded 160 images\n",
      "downloaded 170 images\n",
      "downloaded 180 images\n",
      "downloaded 190 images\n",
      "downloaded 200 images\n",
      "downloaded 210 images\n",
      "downloaded 220 images\n",
      "downloaded 230 images\n",
      "downloaded 240 images\n",
      "downloaded 250 images\n",
      "downloaded 260 images\n",
      "downloaded 270 images\n",
      "downloaded 280 images\n",
      "downloaded 290 images\n",
      "downloaded 300 images\n",
      "downloaded 310 images\n",
      "downloaded 320 images\n",
      "downloaded 330 images\n",
      "downloaded 340 images\n",
      "downloaded 350 images\n",
      "downloaded 360 images\n",
      "downloaded 370 images\n",
      "downloaded 380 images\n",
      "downloaded 390 images\n",
      "downloaded 400 images\n"
     ]
    }
   ],
   "source": [
    "count = 0\n",
    "for i in elements:\n",
    "    src = i.get_attribute('src')\n",
    "    try:\n",
    "        if src != None:\n",
    "            src  = str(src)\n",
    "            count += 1\n",
    "            urllib.request.urlretrieve(src, os.path.join('WithoutMask','image' + str(count) + '.jpg'))\n",
    "            if count%10 == 0: print(\"downloaded\", count, \"images\")\n",
    "        else:\n",
    "            raise TypeError\n",
    "    except TypeError:\n",
    "        pass"
   ]
  },
  {
   "cell_type": "code",
   "execution_count": 23,
   "id": "2441d1d0",
   "metadata": {
    "collapsed": true,
    "scrolled": true
   },
   "outputs": [],
   "source": [
    "driver.back()"
   ]
  },
  {
   "cell_type": "code",
   "execution_count": 24,
   "id": "74e38b36",
   "metadata": {
    "collapsed": true,
    "scrolled": true
   },
   "outputs": [],
   "source": [
    "search = driver.find_element(\"name\", \"q\")\n",
    "search.clear()\n",
    "search.send_keys(\"Boy selfie\", Keys.ENTER)"
   ]
  },
  {
   "cell_type": "code",
   "execution_count": 25,
   "id": "fc954555",
   "metadata": {
    "collapsed": true,
    "scrolled": true
   },
   "outputs": [],
   "source": [
    "element = driver.find_element(\"link text\", \"Images\")\n",
    "element.get_attribute(\"href\")\n",
    "element.click()"
   ]
  },
  {
   "cell_type": "code",
   "execution_count": 26,
   "id": "119bc3c9",
   "metadata": {
    "collapsed": true,
    "scrolled": true
   },
   "outputs": [],
   "source": [
    "value = 0\n",
    "for i in range(1500):\n",
    "    if os.path.exists(\"/Users/_fangkhai/Documents/Academic/Computer Science Semester 7/Image Processing and Computer Vision/Materials/Assignment Dataset/WithoutMask\"):\n",
    "        print(\"File exists. Stopping execution.\")\n",
    "        break \n",
    "    driver.execute_script('scrollBy(\"+ str(value) +\", +1500);')\n",
    "    value += 1500\n",
    "    time.sleep(2)"
   ]
  },
  {
   "cell_type": "code",
   "execution_count": 27,
   "id": "bfb9d97a",
   "metadata": {
    "collapsed": true,
    "scrolled": true
   },
   "outputs": [],
   "source": [
    "elements = driver.find_elements(\"xpath\", '//img[contains(@class,\"rg_i\") and contains(@class, \"Q4LuWd\")]')"
   ]
  },
  {
   "cell_type": "code",
   "execution_count": 28,
   "id": "22feedd7",
   "metadata": {
    "scrolled": false
   },
   "outputs": [
    {
     "name": "stdout",
     "output_type": "stream",
     "text": [
      "downloaded 410 images\n",
      "downloaded 420 images\n",
      "downloaded 430 images\n",
      "downloaded 440 images\n",
      "downloaded 450 images\n",
      "downloaded 460 images\n",
      "downloaded 470 images\n",
      "downloaded 480 images\n",
      "downloaded 490 images\n",
      "downloaded 500 images\n",
      "downloaded 510 images\n",
      "downloaded 520 images\n",
      "downloaded 530 images\n",
      "downloaded 540 images\n",
      "downloaded 550 images\n",
      "downloaded 560 images\n",
      "downloaded 570 images\n",
      "downloaded 580 images\n",
      "downloaded 590 images\n",
      "downloaded 600 images\n",
      "downloaded 610 images\n",
      "downloaded 620 images\n",
      "downloaded 630 images\n",
      "downloaded 640 images\n",
      "downloaded 650 images\n",
      "downloaded 660 images\n",
      "downloaded 670 images\n",
      "downloaded 680 images\n",
      "downloaded 690 images\n",
      "downloaded 700 images\n",
      "downloaded 710 images\n",
      "downloaded 720 images\n",
      "downloaded 730 images\n",
      "downloaded 740 images\n",
      "downloaded 750 images\n",
      "downloaded 760 images\n",
      "downloaded 770 images\n",
      "downloaded 780 images\n",
      "downloaded 790 images\n",
      "downloaded 800 images\n",
      "downloaded 810 images\n",
      "downloaded 820 images\n",
      "downloaded 830 images\n",
      "downloaded 840 images\n",
      "downloaded 850 images\n",
      "downloaded 860 images\n",
      "downloaded 870 images\n",
      "downloaded 880 images\n",
      "downloaded 890 images\n",
      "downloaded 900 images\n",
      "downloaded 910 images\n",
      "downloaded 920 images\n",
      "downloaded 930 images\n",
      "downloaded 940 images\n",
      "downloaded 950 images\n"
     ]
    }
   ],
   "source": [
    "for i in elements:\n",
    "    src = i.get_attribute('src')\n",
    "    try:\n",
    "        if src != None:\n",
    "            src  = str(src)\n",
    "            count += 1\n",
    "            urllib.request.urlretrieve(src, os.path.join('WithoutMask','image' + str(count) + '.jpg'))\n",
    "            if count%10 == 0: print(\"downloaded\", count, \"images\")\n",
    "        else:\n",
    "            raise TypeError\n",
    "    except TypeError:\n",
    "        pass"
   ]
  },
  {
   "cell_type": "code",
   "execution_count": 65,
   "id": "6a9c5fa1",
   "metadata": {
    "scrolled": true
   },
   "outputs": [],
   "source": [
    "# Import libraries needed for merging scrapped WithMask dataset with our initial with_mask dataset \n",
    "# so that we will have an unbalance dataset\n",
    "import os\n",
    "import shutil"
   ]
  },
  {
   "cell_type": "code",
   "execution_count": 66,
   "id": "4f171c01",
   "metadata": {
    "scrolled": true
   },
   "outputs": [],
   "source": [
    "source_dir1 = \"/Users/_fangkhai/Documents/Academic/Computer Science Semester 7/Image Processing and Computer Vision/Materials/Assignment Dataset/WithMask\"\n",
    "source_dir2 = \"/Users/_fangkhai/Documents/Academic/Computer Science Semester 7/Image Processing and Computer Vision/Materials/Assignment Dataset/data/with_mask\"\n",
    "destination_dir = \"/Users/_fangkhai/Documents/Academic/Computer Science Semester 7/Image Processing and Computer Vision/Materials/Assignment Dataset/data/Unbalance Dataset\"\n",
    "\n",
    "# Create the destination directory\n",
    "os.makedirs(destination_dir, exist_ok=True)\n",
    "\n",
    "# Copy images from the source directories to the destination directory\n",
    "for filename in os.listdir(source_dir1):\n",
    "    shutil.copy(os.path.join(source_dir1, filename), os.path.join(destination_dir, filename))\n",
    "\n",
    "for filename in os.listdir(source_dir2):\n",
    "    shutil.copy(os.path.join(source_dir2, filename), os.path.join(destination_dir, filename))"
   ]
  },
  {
   "cell_type": "code",
   "execution_count": 67,
   "id": "1a5601ee",
   "metadata": {
    "scrolled": true
   },
   "outputs": [
    {
     "name": "stdout",
     "output_type": "stream",
     "text": [
      "There are 4752 images in with_mask dataset\n",
      "There are 3828 images in without_mask dataset\n",
      "\n",
      "∴ We can clearly see that now our dataset is \u001b[1mUNBALANCE\u001b[0m after merging the initial with_mask dataset with the scrapped WithMask dataset\n"
     ]
    }
   ],
   "source": [
    "# Directory where with_mask (merged) dataset is stored\n",
    "df = \"/Users/_fangkhai/Documents/Academic/Computer Science Semester 7/Image Processing and Computer Vision/Materials/Assignment Dataset/data/Unbalance Dataset/with_mask\"\n",
    "\n",
    "# Directory where without_mask dataset is stored\n",
    "df1 = \"/Users/_fangkhai/Documents/Academic/Computer Science Semester 7/Image Processing and Computer Vision/Materials/Assignment Dataset/data/Unbalance Dataset/without_mask\"\n",
    "\n",
    "# Use os.listdir to get a list of files in both of the directory\n",
    "image_files = [f for f in os.listdir(df) if f.endswith('.jpg')]\n",
    "image_file = [f for f in os.listdir(df1) if f.endswith('.jpg')]\n",
    "\n",
    "# Count the number of image files in both of the directory\n",
    "num_images = len(image_files)\n",
    "num_image = len(image_file)\n",
    "\n",
    "print(f\"There are {num_images} images in with_mask dataset\")\n",
    "print(f\"There are {num_image} images in without_mask dataset\")\n",
    "\n",
    "print(\"\\n∴ We can clearly see that now our dataset is \\033[1mUNBALANCE\\033[0m after merging the initial with_mask dataset with the scrapped WithMask dataset\")"
   ]
  },
  {
   "cell_type": "markdown",
   "id": "3f8458fd",
   "metadata": {},
   "source": [
    "## Importing Dependencies - Convolutional Neural Network Model"
   ]
  },
  {
   "cell_type": "code",
   "execution_count": 68,
   "id": "9447ae96",
   "metadata": {
    "scrolled": true
   },
   "outputs": [],
   "source": [
    "import os\n",
    "import numpy as np\n",
    "import matplotlib.pyplot as plt\n",
    "import matplotlib.image as mpimg\n",
    "import cv2\n",
    "import warnings\n",
    "from PIL import Image\n",
    "from sklearn.model_selection import train_test_split\n",
    "from tensorflow.keras.utils import to_categorical\n",
    "from sklearn.metrics import classification_report"
   ]
  },
  {
   "cell_type": "code",
   "execution_count": 69,
   "id": "8d5021d8",
   "metadata": {
    "scrolled": true
   },
   "outputs": [],
   "source": [
    "with_mask_files = os.listdir(\"/Users/_fangkhai/Documents/Academic/Computer Science Semester 7/Image Processing and Computer Vision/Materials/Assignment Dataset/data/Unbalance Dataset/with_mask\")"
   ]
  },
  {
   "cell_type": "code",
   "execution_count": 70,
   "id": "45b178ce",
   "metadata": {
    "scrolled": true
   },
   "outputs": [],
   "source": [
    "without_mask_files = os.listdir(\"/Users/_fangkhai/Documents/Academic/Computer Science Semester 7/Image Processing and Computer Vision/Materials/Assignment Dataset/data/Unbalance Dataset/without_mask\")"
   ]
  },
  {
   "cell_type": "markdown",
   "id": "81458138",
   "metadata": {},
   "source": [
    "## Creating Labels For The Two Class Of Images\n",
    "\n",
    "- With Mask will be labelled as 1\n",
    "- Without Mask will be labelled as 0"
   ]
  },
  {
   "cell_type": "code",
   "execution_count": 71,
   "id": "c8cbb5de",
   "metadata": {
    "scrolled": true
   },
   "outputs": [],
   "source": [
    "# Creating the label for with mask\n",
    "with_mask_labels = [1]*4752\n",
    "\n",
    "# Creating the label for without mask\n",
    "without_mask_labels = [0]*3828"
   ]
  },
  {
   "cell_type": "code",
   "execution_count": 72,
   "id": "c1179af2",
   "metadata": {
    "scrolled": true
   },
   "outputs": [
    {
     "name": "stdout",
     "output_type": "stream",
     "text": [
      "[1, 1, 1, 1, 1]\n",
      "[0, 0, 0, 0, 0]\n"
     ]
    }
   ],
   "source": [
    "# Print the created labels for with mask and without mask\n",
    "print(with_mask_labels[0:5])\n",
    "print(without_mask_labels[0:5])"
   ]
  },
  {
   "cell_type": "code",
   "execution_count": 73,
   "id": "9be9194a",
   "metadata": {
    "scrolled": true
   },
   "outputs": [
    {
     "name": "stdout",
     "output_type": "stream",
     "text": [
      "8580\n"
     ]
    }
   ],
   "source": [
    "labels = with_mask_labels + without_mask_labels\n",
    "\n",
    "print(len(labels))"
   ]
  },
  {
   "cell_type": "markdown",
   "id": "7a13ca60",
   "metadata": {},
   "source": [
    "## Displaying Images"
   ]
  },
  {
   "cell_type": "code",
   "execution_count": 74,
   "id": "2403f5d0",
   "metadata": {
    "scrolled": false
   },
   "outputs": [
    {
     "data": {
      "image/png": "[encoded data removed]",
      "text/plain": [
       "<Figure size 640x480 with 1 Axes>"
      ]
     },
     "metadata": {},
     "output_type": "display_data"
    }
   ],
   "source": [
    "# Displaying image with mask\n",
    "img = mpimg.imread(\"/Users/_fangkhai/Documents/Academic/Computer Science Semester 7/Image Processing and Computer Vision/Materials/Assignment Dataset/data/Unbalance Dataset/with_mask/image61.jpg\")\n",
    "imgplot = plt.imshow(img)\n",
    "plt.axis(\"off\")\n",
    "plt.show()"
   ]
  },
  {
   "cell_type": "code",
   "execution_count": 75,
   "id": "9f0a4912",
   "metadata": {
    "scrolled": false
   },
   "outputs": [
    {
     "data": {
      "image/png": "[encoded data removed]",
      "text/plain": [
       "<Figure size 640x480 with 1 Axes>"
      ]
     },
     "metadata": {},
     "output_type": "display_data"
    }
   ],
   "source": [
    "# Displaying image without mask\n",
    "img = mpimg.imread(\"/Users/_fangkhai/Documents/Academic/Computer Science Semester 7/Image Processing and Computer Vision/Materials/Assignment Dataset/data/Unbalance Dataset/without_mask/without_mask_249.jpg\")\n",
    "imgplot = plt.imshow(img)\n",
    "plt.axis(\"off\")\n",
    "plt.show()"
   ]
  },
  {
   "cell_type": "markdown",
   "id": "a684d80a",
   "metadata": {},
   "source": [
    "## Image Processing (Using Color Mode Of RGB)\n",
    "\n",
    "- In here, we will perform:\n",
    "    1. Image resizing\n",
    "    2. Convert images to numpy arrays"
   ]
  },
  {
   "cell_type": "code",
   "execution_count": 76,
   "id": "267f0782",
   "metadata": {
    "scrolled": true
   },
   "outputs": [],
   "source": [
    "with_mask_path = \"/Users/_fangkhai/Documents/Academic/Computer Science Semester 7/Image Processing and Computer Vision/Materials/Assignment Dataset/data/Unbalance Dataset/with_mask\"\n",
    "\n",
    "data = []\n",
    "\n",
    "# List all files in the directory with_mask_path\n",
    "with_mask_files = os.listdir(with_mask_path)\n",
    "\n",
    "for img_file in with_mask_files:\n",
    "    # Skip any files that start with a dot (hidden files, such as .DS_Store)\n",
    "    if img_file.startswith(\".\"):\n",
    "        continue\n",
    "\n",
    "    # Construct the full path to the image file within the 'with_mask_path' directory\n",
    "    image_path = os.path.join(with_mask_path, img_file)\n",
    "    \n",
    "    # Open the image using the Python Imaging Library (PIL) and store it in the 'image' variable\n",
    "    image = Image.open(image_path)\n",
    "    \n",
    "    # Resize the image to a fixed size of 128x128 pixels\n",
    "    image = image.resize((128, 128))\n",
    "    \n",
    "    # Convert the image to the RGB color mode to ensure consistency\n",
    "    image = image.convert(\"RGB\")\n",
    "    \n",
    "    # Convert the PIL Image object to a NumPy array for further processing\n",
    "    image = np.array(image)\n",
    "    \n",
    "    # Append the NumPy array representation of the image to the 'data' list\n",
    "    data.append(image)"
   ]
  },
  {
   "cell_type": "code",
   "execution_count": 77,
   "id": "f60c5a78",
   "metadata": {
    "scrolled": true
   },
   "outputs": [],
   "source": [
    "without_mask_path = \"/Users/_fangkhai/Documents/Academic/Computer Science Semester 7/Image Processing and Computer Vision/Materials/Assignment Dataset/data/Unbalance Dataset/without_mask\"\n",
    "\n",
    "# List all files in the directory without_mask_path\n",
    "without_mask_files = os.listdir(without_mask_path)\n",
    "\n",
    "for img_file in without_mask_files:\n",
    "    # Skip any files that start with a dot (hidden files, such as .DS_Store)\n",
    "    if img_file.startswith(\".\"):\n",
    "        continue\n",
    "\n",
    "    # Construct the full path to the image file within the 'without_mask_path' directory\n",
    "    image_path = os.path.join(without_mask_path, img_file)\n",
    "    \n",
    "    # Open the image using the Python Imaging Library (PIL) and store it in the 'image' variable\n",
    "    image = Image.open(image_path)\n",
    "    \n",
    "    # Resize the image to a fixed size of 128x128 pixels\n",
    "    image = image.resize((128, 128))\n",
    "    \n",
    "    # Convert the image to the RGB color mode to ensure consistency\n",
    "    image = image.convert(\"RGB\")\n",
    "    \n",
    "    # Convert the PIL Image object to a NumPy array for further processing\n",
    "    image = np.array(image)\n",
    "    \n",
    "    # Append the NumPy array representation of the image to the 'data' list\n",
    "    data.append(image)"
   ]
  },
  {
   "cell_type": "code",
   "execution_count": 78,
   "id": "600258df",
   "metadata": {
    "scrolled": true
   },
   "outputs": [
    {
     "data": {
      "text/plain": [
       "8580"
      ]
     },
     "execution_count": 78,
     "metadata": {},
     "output_type": "execute_result"
    }
   ],
   "source": [
    "len(data)"
   ]
  },
  {
   "cell_type": "code",
   "execution_count": 79,
   "id": "8d3d8193",
   "metadata": {
    "scrolled": true
   },
   "outputs": [
    {
     "data": {
      "text/plain": [
       "(128, 128, 3)"
      ]
     },
     "execution_count": 79,
     "metadata": {},
     "output_type": "execute_result"
    }
   ],
   "source": [
    "data[0].shape"
   ]
  },
  {
   "cell_type": "markdown",
   "id": "f7c24d03",
   "metadata": {},
   "source": [
    "## Convert Image List And Label List To Numpy Arrays"
   ]
  },
  {
   "cell_type": "code",
   "execution_count": 80,
   "id": "c62e05f8",
   "metadata": {
    "scrolled": true
   },
   "outputs": [],
   "source": [
    "X = np.array(data)\n",
    "Y = np.array(labels)"
   ]
  },
  {
   "cell_type": "code",
   "execution_count": 81,
   "id": "1cfe4e29",
   "metadata": {
    "scrolled": true
   },
   "outputs": [
    {
     "data": {
      "text/plain": [
       "numpy.ndarray"
      ]
     },
     "execution_count": 81,
     "metadata": {},
     "output_type": "execute_result"
    }
   ],
   "source": [
    "type(X)"
   ]
  },
  {
   "cell_type": "code",
   "execution_count": 82,
   "id": "1ca4b4a8",
   "metadata": {
    "scrolled": true
   },
   "outputs": [
    {
     "data": {
      "text/plain": [
       "numpy.ndarray"
      ]
     },
     "execution_count": 82,
     "metadata": {},
     "output_type": "execute_result"
    }
   ],
   "source": [
    "type(Y)"
   ]
  },
  {
   "cell_type": "markdown",
   "id": "fb17250a",
   "metadata": {},
   "source": [
    "## Train Test Split"
   ]
  },
  {
   "cell_type": "code",
   "execution_count": 83,
   "id": "026f6749",
   "metadata": {
    "scrolled": true
   },
   "outputs": [],
   "source": [
    "X_train, x_test, Y_train, y_test = train_test_split(X, Y, test_size = 0.2, random_state = 2)"
   ]
  },
  {
   "cell_type": "code",
   "execution_count": 84,
   "id": "2a7bb733",
   "metadata": {
    "scrolled": true
   },
   "outputs": [
    {
     "name": "stdout",
     "output_type": "stream",
     "text": [
      "(6864, 128, 128, 3) (6864,)\n",
      "(1716, 128, 128, 3) (1716,)\n"
     ]
    }
   ],
   "source": [
    "print(X_train.shape, Y_train.shape)\n",
    "print(x_test.shape, y_test.shape)"
   ]
  },
  {
   "cell_type": "markdown",
   "id": "d7f84584",
   "metadata": {},
   "source": [
    "## Data Scaling"
   ]
  },
  {
   "cell_type": "code",
   "execution_count": 85,
   "id": "2191dee5",
   "metadata": {
    "scrolled": true
   },
   "outputs": [],
   "source": [
    "X_train_scaled = X_train/255\n",
    "x_test_scaled = x_test/255"
   ]
  },
  {
   "cell_type": "markdown",
   "id": "53c5c06e",
   "metadata": {},
   "source": [
    "## Model Training - Convolutional Neural Network"
   ]
  },
  {
   "cell_type": "code",
   "execution_count": 86,
   "id": "0f18732a",
   "metadata": {
    "scrolled": true
   },
   "outputs": [],
   "source": [
    "# Import libraries needed\n",
    "import tensorflow as tf\n",
    "from tensorflow import keras"
   ]
  },
  {
   "cell_type": "code",
   "execution_count": 87,
   "id": "3255b5fa",
   "metadata": {
    "scrolled": true
   },
   "outputs": [],
   "source": [
    "# Define the number of output classes (in this case, 2)\n",
    "num_of_classes = 2\n",
    "\n",
    "# Create a sequential model using Keras\n",
    "model = keras.Sequential()\n",
    "\n",
    "# Convolutional Layer 1:\n",
    "model.add(keras.layers.Conv2D(32, kernel_size=(3, 3), activation=\"relu\", input_shape=(128, 128, 3)))\n",
    "model.add(keras.layers.MaxPooling2D(pool_size=(2, 2)))\n",
    "\n",
    "# Convolutional Layer 2:\n",
    "model.add(keras.layers.Conv2D(64, kernel_size=(3, 3), activation=\"relu\"))\n",
    "model.add(keras.layers.MaxPooling2D(pool_size=(2, 2)))\n",
    "\n",
    "# Flatten Layer: Flattens the output from the convolutional layers\n",
    "model.add(keras.layers.Flatten())\n",
    "\n",
    "# Fully Connected Layer 1:\n",
    "model.add(keras.layers.Dense(128, activation=\"relu\"))\n",
    "model.add(keras.layers.Dropout(0.5))  # Apply dropout for regularization\n",
    "\n",
    "# Fully Connected Layer 2:\n",
    "model.add(keras.layers.Dense(64, activation=\"relu\"))\n",
    "model.add(keras.layers.Dropout(0.5))  # Apply dropout for regularization\n",
    "\n",
    "# Output Layer:\n",
    "model.add(keras.layers.Dense(num_of_classes, activation=\"sigmoid\"))\n",
    "\n",
    "# Comments for layers:\n",
    "# - Convolutional layers are used to extract features from the input images.\n",
    "# - MaxPooling layers reduce spatial dimensions to down-sample the feature maps.\n",
    "# - The Flatten layer transforms the 2D feature maps into a 1D vector.\n",
    "# - Dense layers are fully connected layers for further processing.\n",
    "# - Dropout is applied to reduce overfitting by randomly setting a fraction of input units to zero.\n",
    "# - The output layer has as many neurons as there are classes with 'relu' activation."
   ]
  },
  {
   "cell_type": "code",
   "execution_count": 88,
   "id": "f434dfbc",
   "metadata": {
    "scrolled": true
   },
   "outputs": [],
   "source": [
    "# Compile the neural network\n",
    "model.compile(optimizer = \"adam\", loss = \"sparse_categorical_crossentropy\", metrics = [\"acc\"])"
   ]
  },
  {
   "cell_type": "code",
   "execution_count": 89,
   "id": "ed81bcae",
   "metadata": {
    "scrolled": false
   },
   "outputs": [
    {
     "name": "stdout",
     "output_type": "stream",
     "text": [
      "Epoch 1/5\n",
      "194/194 [==============================] - 47s 239ms/step - loss: 0.5395 - acc: 0.7385 - val_loss: 0.3440 - val_acc: 0.8588\n",
      "Epoch 2/5\n",
      "194/194 [==============================] - 42s 214ms/step - loss: 0.3690 - acc: 0.8506 - val_loss: 0.3063 - val_acc: 0.8748\n",
      "Epoch 3/5\n",
      "194/194 [==============================] - 41s 213ms/step - loss: 0.3044 - acc: 0.8740 - val_loss: 0.2544 - val_acc: 0.8865\n",
      "Epoch 4/5\n",
      "194/194 [==============================] - 44s 225ms/step - loss: 0.2748 - acc: 0.8855 - val_loss: 0.3626 - val_acc: 0.8457\n",
      "Epoch 5/5\n",
      "194/194 [==============================] - 49s 254ms/step - loss: 0.2474 - acc: 0.9025 - val_loss: 0.2303 - val_acc: 0.9098\n"
     ]
    }
   ],
   "source": [
    "# Train the neural network\n",
    "scaled_mdl = model.fit(X_train_scaled, Y_train, validation_split = 0.1, epochs = 5)"
   ]
  },
  {
   "cell_type": "markdown",
   "id": "41fce383",
   "metadata": {},
   "source": [
    "## Model Evaluation"
   ]
  },
  {
   "cell_type": "code",
   "execution_count": 90,
   "id": "eb97b2fd",
   "metadata": {
    "scrolled": true
   },
   "outputs": [
    {
     "name": "stdout",
     "output_type": "stream",
     "text": [
      "54/54 [==============================] - 4s 73ms/step - loss: 0.3071 - acc: 0.8735\n",
      "Test Accuracy For X_train_scaled With Color Mode Of RGB:  87.35431432723999\n"
     ]
    }
   ],
   "source": [
    "loss, accuracy = model.evaluate(x_test_scaled, y_test)\n",
    "print(\"Test Accuracy For X_train_scaled With Color Mode Of RGB: \", accuracy * 100)"
   ]
  },
  {
   "cell_type": "code",
   "execution_count": 91,
   "id": "26ed5716",
   "metadata": {
    "scrolled": false
   },
   "outputs": [
    {
     "name": "stdout",
     "output_type": "stream",
     "text": [
      "54/54 [==============================] - 4s 74ms/step\n",
      "\n",
      "Classification Report for CNN Model Trained With Xtrain_scaled With Color Mode Of RGB\n",
      "              precision    recall  f1-score   support\n",
      "\n",
      "           0       0.85      0.87      0.86       768\n",
      "           1       0.89      0.87      0.88       948\n",
      "\n",
      "    accuracy                           0.87      1716\n",
      "   macro avg       0.87      0.87      0.87      1716\n",
      "weighted avg       0.87      0.87      0.87      1716\n",
      "\n"
     ]
    }
   ],
   "source": [
    "warnings.filterwarnings(\"ignore\")\n",
    "# Make predictions\n",
    "y_pred_model = model.predict(x_test_scaled)\n",
    "\n",
    "# Convert predicted probabilities to class labels\n",
    "y_pred_class_m = np.argmax(y_pred_model, axis=1)\n",
    "\n",
    "# Create a classification report\n",
    "report = classification_report(y_test, y_pred_class_m)\n",
    "\n",
    "# Print the report\n",
    "print(\"\\nClassification Report for CNN Model Trained With Xtrain_scaled With Color Mode Of RGB\")\n",
    "print(report)"
   ]
  },
  {
   "cell_type": "markdown",
   "id": "98c5a124",
   "metadata": {},
   "source": [
    "## Image Processing (Using Color Mode Of GrayScale)\n",
    "\n",
    "- In here, we will perform:\n",
    "    1. Image resizing\n",
    "    2. Convert images to numpy arrays"
   ]
  },
  {
   "cell_type": "code",
   "execution_count": 92,
   "id": "b58e1635",
   "metadata": {},
   "outputs": [],
   "source": [
    "data1 = []\n",
    "\n",
    "for img_file in with_mask_files:\n",
    "    # Skip any files that start with a dot (hidden files, such as .DS_Store)\n",
    "    if img_file.startswith(\".\"):\n",
    "        continue\n",
    "\n",
    "    # Construct the full path to the image file within the 'with_mask_path' directory\n",
    "    image_path = os.path.join(with_mask_path, img_file)\n",
    "    \n",
    "    # Open the image using the Python Imaging Library (PIL) and store it in the 'image' variable\n",
    "    image = Image.open(image_path)\n",
    "    \n",
    "    # Resize the image to a fixed size of 128x128 pixels\n",
    "    image = image.resize((128, 128))\n",
    "    \n",
    "    # Convert the image to the GrayScale color mode to ensure consistency\n",
    "    image = image.convert(\"L\")\n",
    "    \n",
    "    # Convert the PIL Image object to a NumPy array for further processing\n",
    "    image = np.array(image)\n",
    "    \n",
    "    # Append the NumPy array representation of the image to the 'data' list\n",
    "    data1.append(image)"
   ]
  },
  {
   "cell_type": "code",
   "execution_count": 93,
   "id": "dea7ae59",
   "metadata": {},
   "outputs": [],
   "source": [
    "for img_file in without_mask_files:\n",
    "    # Skip any files that start with a dot (hidden files, such as .DS_Store)\n",
    "    if img_file.startswith(\".\"):\n",
    "        continue\n",
    "\n",
    "    # Construct the full path to the image file within the 'without_mask_path' directory\n",
    "    image_path = os.path.join(without_mask_path, img_file)\n",
    "    \n",
    "    # Open the image using the Python Imaging Library (PIL) and store it in the 'image' variable\n",
    "    image = Image.open(image_path)\n",
    "    \n",
    "    # Resize the image to a fixed size of 128x128 pixels\n",
    "    image = image.resize((128, 128))\n",
    "    \n",
    "    # Convert the image to the GrayScale color mode to ensure consistency\n",
    "    image = image.convert(\"L\")\n",
    "    \n",
    "    # Convert the PIL Image object to a NumPy array for further processing\n",
    "    image = np.array(image)\n",
    "    \n",
    "    # Append the NumPy array representation of the image to the 'data' list\n",
    "    data1.append(image)"
   ]
  },
  {
   "cell_type": "markdown",
   "id": "1bac94b8",
   "metadata": {},
   "source": [
    "## Convert Image List And Label List To Numpy Arrays"
   ]
  },
  {
   "cell_type": "code",
   "execution_count": 94,
   "id": "bd1983c1",
   "metadata": {},
   "outputs": [],
   "source": [
    "c = np.array(data1)\n",
    "d = np.array(labels)"
   ]
  },
  {
   "cell_type": "markdown",
   "id": "ab458d3c",
   "metadata": {},
   "source": [
    "## Train Test Split"
   ]
  },
  {
   "cell_type": "code",
   "execution_count": 95,
   "id": "54cbf6f4",
   "metadata": {},
   "outputs": [],
   "source": [
    "Xtrain, xtest, Ytrain, ytest = train_test_split(c, d, test_size = 0.2, random_state = 2)"
   ]
  },
  {
   "cell_type": "markdown",
   "id": "915ff3d4",
   "metadata": {},
   "source": [
    "## Data Scaling"
   ]
  },
  {
   "cell_type": "code",
   "execution_count": 96,
   "id": "d1fdc121",
   "metadata": {},
   "outputs": [],
   "source": [
    "Xtrain_scaled = Xtrain/255\n",
    "xtest_scaled = xtest/255"
   ]
  },
  {
   "cell_type": "markdown",
   "id": "373f0fbe",
   "metadata": {},
   "source": [
    "## Model Training - Convolutional Neural Network"
   ]
  },
  {
   "cell_type": "code",
   "execution_count": 97,
   "id": "08626cce",
   "metadata": {},
   "outputs": [],
   "source": [
    "# Create a sequential model using Keras\n",
    "model7 = keras.Sequential()\n",
    "\n",
    "# Convolutional Layer 1:\n",
    "model7.add(keras.layers.Conv2D(32, kernel_size=(3, 3), activation=\"relu\", input_shape=(128, 128, 1)))\n",
    "model7.add(keras.layers.MaxPooling2D(pool_size=(2, 2)))\n",
    "\n",
    "# Convolutional Layer 2:\n",
    "model7.add(keras.layers.Conv2D(64, kernel_size=(3, 3), activation=\"relu\"))\n",
    "model7.add(keras.layers.MaxPooling2D(pool_size=(2, 2)))\n",
    "\n",
    "# Flatten Layer: Flattens the output from the convolutional layers\n",
    "model7.add(keras.layers.Flatten())\n",
    "\n",
    "# Fully Connected Layer 1:\n",
    "model7.add(keras.layers.Dense(128, activation=\"relu\"))\n",
    "model7.add(keras.layers.Dropout(0.5))  # Apply dropout for regularization\n",
    "\n",
    "# Fully Connected Layer 2:\n",
    "model7.add(keras.layers.Dense(64, activation=\"relu\"))\n",
    "model7.add(keras.layers.Dropout(0.5))  # Apply dropout for regularization\n",
    "\n",
    "# Output Layer:\n",
    "model7.add(keras.layers.Dense(num_of_classes, activation=\"sigmoid\"))\n",
    "\n",
    "# Comments for layers:\n",
    "# - Convolutional layers are used to extract features from the input images.\n",
    "# - MaxPooling layers reduce spatial dimensions to down-sample the feature maps.\n",
    "# - The Flatten layer transforms the 2D feature maps into a 1D vector.\n",
    "# - Dense layers are fully connected layers for further processing.\n",
    "# - Dropout is applied to reduce overfitting by randomly setting a fraction of input units to zero.\n",
    "# - The output layer has as many neurons as there are classes with 'relu' activation."
   ]
  },
  {
   "cell_type": "code",
   "execution_count": 98,
   "id": "91b6495c",
   "metadata": {},
   "outputs": [],
   "source": [
    "# Compile the neural network\n",
    "model7.compile(optimizer = \"adam\", loss = \"sparse_categorical_crossentropy\", metrics = [\"acc\"])"
   ]
  },
  {
   "cell_type": "code",
   "execution_count": 99,
   "id": "2752e55a",
   "metadata": {},
   "outputs": [
    {
     "name": "stdout",
     "output_type": "stream",
     "text": [
      "Epoch 1/5\n",
      "194/194 [==============================] - 38s 197ms/step - loss: 0.6607 - acc: 0.6187 - val_loss: 0.5909 - val_acc: 0.6769\n",
      "Epoch 2/5\n",
      "194/194 [==============================] - 38s 195ms/step - loss: 0.5728 - acc: 0.6999 - val_loss: 0.5615 - val_acc: 0.7060\n",
      "Epoch 3/5\n",
      "194/194 [==============================] - 39s 200ms/step - loss: 0.4978 - acc: 0.7653 - val_loss: 0.5617 - val_acc: 0.7307\n",
      "Epoch 4/5\n",
      "194/194 [==============================] - 38s 194ms/step - loss: 0.4221 - acc: 0.8075 - val_loss: 0.4267 - val_acc: 0.8020\n",
      "Epoch 5/5\n",
      "194/194 [==============================] - 38s 196ms/step - loss: 0.3312 - acc: 0.8546 - val_loss: 0.4075 - val_acc: 0.8166\n"
     ]
    }
   ],
   "source": [
    "# Train the neural network\n",
    "scaled_model7 = model7.fit(Xtrain_scaled, Ytrain, validation_split = 0.1, epochs = 5)"
   ]
  },
  {
   "cell_type": "markdown",
   "id": "d4866495",
   "metadata": {},
   "source": [
    "## Model Evaluation"
   ]
  },
  {
   "cell_type": "code",
   "execution_count": 100,
   "id": "63b97e73",
   "metadata": {},
   "outputs": [
    {
     "name": "stdout",
     "output_type": "stream",
     "text": [
      "54/54 [==============================] - 3s 54ms/step - loss: 0.4117 - acc: 0.8147\n",
      "Test Accuracy For Xtrain_scaled With Color Mode Of GrayScale:  81.46852850914001\n"
     ]
    }
   ],
   "source": [
    "loss, accuracy = model7.evaluate(xtest_scaled, ytest)\n",
    "print(\"Test Accuracy For Xtrain_scaled With Color Mode Of GrayScale: \", accuracy * 100)"
   ]
  },
  {
   "cell_type": "code",
   "execution_count": 101,
   "id": "6339f8e5",
   "metadata": {},
   "outputs": [
    {
     "name": "stdout",
     "output_type": "stream",
     "text": [
      "54/54 [==============================] - 3s 55ms/step\n",
      "\n",
      "Classification Report for CNN Model Trained With Xtrain_scaled With Color Mode Of GrayScale\n",
      "\n",
      "              precision    recall  f1-score   support\n",
      "\n",
      "           0       0.81      0.76      0.79       768\n",
      "           1       0.82      0.86      0.84       948\n",
      "\n",
      "    accuracy                           0.81      1716\n",
      "   macro avg       0.81      0.81      0.81      1716\n",
      "weighted avg       0.81      0.81      0.81      1716\n",
      "\n"
     ]
    }
   ],
   "source": [
    "# Make predictions\n",
    "y_pr5 = model7.predict(xtest_scaled)\n",
    "\n",
    "# Convert predicted probabilities to class labels\n",
    "y_pred_class_model7 = np.argmax(y_pr5, axis=1)\n",
    "\n",
    "# Create a classification report\n",
    "report7 = classification_report(ytest, y_pred_class_model7)\n",
    "\n",
    "# Print the report\n",
    "print(\"\\nClassification Report for CNN Model Trained With Xtrain_scaled With Color Mode Of GrayScale\\n\")\n",
    "print(report7) "
   ]
  },
  {
   "cell_type": "markdown",
   "id": "6da6871a",
   "metadata": {},
   "source": [
    "## Resampling - To Handle Unbalance Dataset"
   ]
  },
  {
   "cell_type": "code",
   "execution_count": 102,
   "id": "620a21a5",
   "metadata": {
    "scrolled": true
   },
   "outputs": [],
   "source": [
    "# Import libraries needed\n",
    "from sklearn.utils import resample"
   ]
  },
  {
   "cell_type": "markdown",
   "id": "5420b0a2",
   "metadata": {},
   "source": [
    "## Image Processing\n",
    "\n",
    "- In here, we will perform:\n",
    "    1. Image resizing\n",
    "    2. Convert images to numpy arrays"
   ]
  },
  {
   "cell_type": "code",
   "execution_count": 103,
   "id": "ae2eb907",
   "metadata": {
    "scrolled": true
   },
   "outputs": [],
   "source": [
    "with_mask_data = []\n",
    "\n",
    "for img_file in with_mask_files:\n",
    "    # Skip any files that start with a dot (hidden files, such as .DS_Store)\n",
    "    if img_file.startswith(\".\"):\n",
    "        continue\n",
    "\n",
    "    # Construct the full path to the image file within the 'with_mask_path' directory\n",
    "    image_path = os.path.join(with_mask_path, img_file)\n",
    "    \n",
    "    # Open the image using the Python Imaging Library (PIL) and store it in the 'image' variable\n",
    "    image = Image.open(image_path)\n",
    "    \n",
    "    # Resize the image to a fixed size of 128x128 pixels\n",
    "    image = image.resize((128, 128))\n",
    "    \n",
    "    # Convert the image to the RGB color mode to ensure consistency\n",
    "    image = image.convert(\"RGB\")\n",
    "    \n",
    "    # Convert the PIL Image object to a NumPy array for further processing\n",
    "    image = np.array(image)\n",
    "    \n",
    "    # Append the NumPy array representation of the image to the 'with_mask_data' list\n",
    "    with_mask_data.append(image)"
   ]
  },
  {
   "cell_type": "code",
   "execution_count": 104,
   "id": "0e0eb53f",
   "metadata": {},
   "outputs": [],
   "source": [
    "without_mask_data = []\n",
    "\n",
    "for img_file in without_mask_files:\n",
    "    # Skip any files that start with a dot (hidden files, such as .DS_Store)\n",
    "    if img_file.startswith(\".\"):\n",
    "        continue\n",
    "\n",
    "    # Construct the full path to the image file within the 'without_mask_path' directory\n",
    "    image_path = os.path.join(without_mask_path, img_file)\n",
    "    \n",
    "    # Open the image using the Python Imaging Library (PIL) and store it in the 'image' variable\n",
    "    image = Image.open(image_path)\n",
    "    \n",
    "    # Resize the image to a fixed size of 128x128 pixels\n",
    "    image = image.resize((128, 128))\n",
    "    \n",
    "    # Convert the image to the RGB color mode to ensure consistency\n",
    "    image = image.convert(\"RGB\")\n",
    "    \n",
    "    # Convert the PIL Image object to a NumPy array for further processing\n",
    "    image = np.array(image)\n",
    "    \n",
    "    # Append the NumPy array representation of the image to the 'without_mask_data' list\n",
    "    without_mask_data.append(image)"
   ]
  },
  {
   "cell_type": "code",
   "execution_count": 105,
   "id": "b5f822dd",
   "metadata": {
    "scrolled": true
   },
   "outputs": [],
   "source": [
    "# Oversample the \"without_mask\" category to match the number of samples in the \"with_mask\" category\n",
    "without_mask_oversampled = resample(without_mask_data, n_samples=len(with_mask_data), random_state=42)\n",
    "\n",
    "# Combine the balanced datasets for training\n",
    "balanced_data = np.concatenate((with_mask_data, without_mask_oversampled))"
   ]
  },
  {
   "cell_type": "code",
   "execution_count": 106,
   "id": "7096c61c",
   "metadata": {
    "scrolled": true
   },
   "outputs": [
    {
     "name": "stdout",
     "output_type": "stream",
     "text": [
      "After Resampled Without Mask Dataset Length:  4752\n",
      "\n",
      "Before Resample Without Mask Dataset Length:  3828\n"
     ]
    }
   ],
   "source": [
    "print(\"After Resampled Without Mask Dataset Length: \", len(without_mask_oversampled))\n",
    "print(\"\\nBefore Resample Without Mask Dataset Length: \", len(image_file))"
   ]
  },
  {
   "cell_type": "code",
   "execution_count": 107,
   "id": "1203648b",
   "metadata": {
    "scrolled": true
   },
   "outputs": [
    {
     "name": "stdout",
     "output_type": "stream",
     "text": [
      "\u001b[1mBefore Sampling\u001b[0m\n",
      "Length Of With Mask Dataset:  4752\n",
      "Length Of Without Mask Dataset:  3828\n",
      "\n",
      "∴ We can clearly see that now our dataset is \u001b[1mUNBALANCED\u001b[0m before performing Resampling)\n",
      "\n",
      "\n",
      "\u001b[1mAfter Sampling\u001b[0m\n",
      "Length Of With Mask Dataset:  4752\n",
      "Length Of Without Mask Dataset:  4752\n",
      "\n",
      "∴ We can clearly see that now our dataset is \u001b[1mBALANCED\u001b[0m after performing Resampling)\n"
     ]
    }
   ],
   "source": [
    "print(\"\\033[1mBefore Sampling\\033[0m\")\n",
    "print(\"Length Of With Mask Dataset: \",len(with_mask_data))\n",
    "print(\"Length Of Without Mask Dataset: \",len(image_file))\n",
    "print(\"\\n∴ We can clearly see that now our dataset is \\033[1mUNBALANCED\\033[0m before performing Resampling)\")\n",
    "\n",
    "print(\"\\n\\n\\033[1mAfter Sampling\\033[0m\")\n",
    "print(\"Length Of With Mask Dataset: \",len(with_mask_data))\n",
    "print(\"Length Of Without Mask Dataset: \",len(without_mask_oversampled))\n",
    "print(\"\\n∴ We can clearly see that now our dataset is \\033[1mBALANCED\\033[0m after performing Resampling)\")"
   ]
  },
  {
   "cell_type": "markdown",
   "id": "d0ddd1b7",
   "metadata": {},
   "source": [
    "## Creating Labels For The Resampled Class (Without Mask)"
   ]
  },
  {
   "cell_type": "code",
   "execution_count": 108,
   "id": "d610392d",
   "metadata": {
    "scrolled": true
   },
   "outputs": [],
   "source": [
    "# Creating the label for without mask\n",
    "without_mask_label = [0]*4752"
   ]
  },
  {
   "cell_type": "code",
   "execution_count": 109,
   "id": "f93fe59c",
   "metadata": {
    "scrolled": true
   },
   "outputs": [],
   "source": [
    "label = with_mask_labels + without_mask_label"
   ]
  },
  {
   "cell_type": "code",
   "execution_count": 110,
   "id": "3b08b8d2",
   "metadata": {
    "scrolled": true
   },
   "outputs": [
    {
     "name": "stdout",
     "output_type": "stream",
     "text": [
      "Before Resample Label Length:  8580\n",
      "\n",
      "After Resampled Label Length:  9504\n"
     ]
    }
   ],
   "source": [
    "print(\"Before Resample Label Length: \", len(labels))\n",
    "print(\"\\nAfter Resampled Label Length: \", len(label))"
   ]
  },
  {
   "cell_type": "code",
   "execution_count": 111,
   "id": "57df781f",
   "metadata": {
    "scrolled": true
   },
   "outputs": [
    {
     "data": {
      "text/plain": [
       "9504"
      ]
     },
     "execution_count": 111,
     "metadata": {},
     "output_type": "execute_result"
    }
   ],
   "source": [
    "len(balanced_data)"
   ]
  },
  {
   "cell_type": "code",
   "execution_count": 112,
   "id": "ba93ecaf",
   "metadata": {
    "scrolled": true
   },
   "outputs": [
    {
     "data": {
      "text/plain": [
       "(128, 128, 3)"
      ]
     },
     "execution_count": 112,
     "metadata": {},
     "output_type": "execute_result"
    }
   ],
   "source": [
    "balanced_data[0].shape"
   ]
  },
  {
   "cell_type": "markdown",
   "id": "6cf68ee6",
   "metadata": {},
   "source": [
    "## Convert Image List And Label List To Numpy Arrays"
   ]
  },
  {
   "cell_type": "code",
   "execution_count": 113,
   "id": "75c9c29c",
   "metadata": {
    "scrolled": true
   },
   "outputs": [],
   "source": [
    "x = np.array(balanced_data)\n",
    "y = np.array(label)"
   ]
  },
  {
   "cell_type": "code",
   "execution_count": 114,
   "id": "ada3c150",
   "metadata": {
    "scrolled": true
   },
   "outputs": [
    {
     "data": {
      "text/plain": [
       "numpy.ndarray"
      ]
     },
     "execution_count": 114,
     "metadata": {},
     "output_type": "execute_result"
    }
   ],
   "source": [
    "type(x)"
   ]
  },
  {
   "cell_type": "code",
   "execution_count": 115,
   "id": "18a0ba7d",
   "metadata": {
    "scrolled": true
   },
   "outputs": [
    {
     "data": {
      "text/plain": [
       "numpy.ndarray"
      ]
     },
     "execution_count": 115,
     "metadata": {},
     "output_type": "execute_result"
    }
   ],
   "source": [
    "type(y)"
   ]
  },
  {
   "cell_type": "markdown",
   "id": "90f97baf",
   "metadata": {},
   "source": [
    "## Train Test Split"
   ]
  },
  {
   "cell_type": "code",
   "execution_count": 116,
   "id": "e5f96923",
   "metadata": {
    "scrolled": true
   },
   "outputs": [],
   "source": [
    "x_train, X_test, y_train, Y_test = train_test_split(x, y, test_size = 0.2, random_state = 2)"
   ]
  },
  {
   "cell_type": "code",
   "execution_count": 117,
   "id": "3cf0540f",
   "metadata": {
    "scrolled": true
   },
   "outputs": [
    {
     "name": "stdout",
     "output_type": "stream",
     "text": [
      "(7603, 128, 128, 3) (7603,)\n",
      "(1901, 128, 128, 3) (1901,)\n"
     ]
    }
   ],
   "source": [
    "print(x_train.shape, y_train.shape)\n",
    "print(X_test.shape, Y_test.shape)"
   ]
  },
  {
   "cell_type": "markdown",
   "id": "d6cc805e",
   "metadata": {},
   "source": [
    "## Data Scaling"
   ]
  },
  {
   "cell_type": "code",
   "execution_count": 118,
   "id": "dae57d64",
   "metadata": {
    "scrolled": true
   },
   "outputs": [],
   "source": [
    "x_train_scaled = x_train/255\n",
    "X_test_scaled = X_test/255"
   ]
  },
  {
   "cell_type": "markdown",
   "id": "d8a99bd3",
   "metadata": {},
   "source": [
    "## Model Training - Convolutional Neural Network (After Resampled)"
   ]
  },
  {
   "cell_type": "code",
   "execution_count": 119,
   "id": "459b58a4",
   "metadata": {
    "scrolled": true
   },
   "outputs": [],
   "source": [
    "# Create a sequential model using Keras\n",
    "mdl = keras.Sequential()\n",
    "\n",
    "# Convolutional Layer 1:\n",
    "mdl.add(keras.layers.Conv2D(32, kernel_size=(3, 3), activation=\"relu\", input_shape=(128, 128, 3)))\n",
    "mdl.add(keras.layers.MaxPooling2D(pool_size=(2, 2)))\n",
    "\n",
    "# Convolutional Layer 2:\n",
    "mdl.add(keras.layers.Conv2D(64, kernel_size=(3, 3), activation=\"relu\"))\n",
    "mdl.add(keras.layers.MaxPooling2D(pool_size=(2, 2)))\n",
    "\n",
    "# Flatten Layer: Flattens the output from the convolutional layers\n",
    "mdl.add(keras.layers.Flatten())\n",
    "\n",
    "# Fully Connected Layer 1:\n",
    "mdl.add(keras.layers.Dense(128, activation=\"relu\"))\n",
    "mdl.add(keras.layers.Dropout(0.5))  # Apply dropout for regularization\n",
    "\n",
    "# Fully Connected Layer 2:\n",
    "mdl.add(keras.layers.Dense(64, activation=\"relu\"))\n",
    "mdl.add(keras.layers.Dropout(0.5))  # Apply dropout for regularization\n",
    "\n",
    "# Output Layer:\n",
    "mdl.add(keras.layers.Dense(num_of_classes, activation=\"sigmoid\"))\n",
    "\n",
    "# Comments for layers:\n",
    "# - Convolutional layers are used to extract features from the input images.\n",
    "# - MaxPooling layers reduce spatial dimensions to down-sample the feature maps.\n",
    "# - The Flatten layer transforms the 2D feature maps into a 1D vector.\n",
    "# - Dense layers are fully connected layers for further processing.\n",
    "# - Dropout is applied to reduce overfitting by randomly setting a fraction of input units to zero.\n",
    "# - The output layer has as many neurons as there are classes with 'relu' activation."
   ]
  },
  {
   "cell_type": "code",
   "execution_count": 120,
   "id": "5ee45e44",
   "metadata": {
    "scrolled": true
   },
   "outputs": [],
   "source": [
    "# Compile the neural network\n",
    "mdl.compile(optimizer = \"adam\", loss = \"sparse_categorical_crossentropy\", metrics = [\"acc\"])"
   ]
  },
  {
   "cell_type": "code",
   "execution_count": 121,
   "id": "d4013edb",
   "metadata": {
    "scrolled": false
   },
   "outputs": [
    {
     "name": "stdout",
     "output_type": "stream",
     "text": [
      "Epoch 1/5\n",
      "214/214 [==============================] - 47s 216ms/step - loss: 0.5093 - acc: 0.7824 - val_loss: 0.3357 - val_acc: 0.8633\n",
      "Epoch 2/5\n",
      "214/214 [==============================] - 49s 228ms/step - loss: 0.3472 - acc: 0.8519 - val_loss: 0.3284 - val_acc: 0.8686\n",
      "Epoch 3/5\n",
      "214/214 [==============================] - 46s 214ms/step - loss: 0.2960 - acc: 0.8802 - val_loss: 0.2664 - val_acc: 0.8909\n",
      "Epoch 4/5\n",
      "214/214 [==============================] - 47s 218ms/step - loss: 0.2503 - acc: 0.8946 - val_loss: 0.2818 - val_acc: 0.8909\n",
      "Epoch 5/5\n",
      "214/214 [==============================] - 46s 215ms/step - loss: 0.2064 - acc: 0.9151 - val_loss: 0.2349 - val_acc: 0.9106\n"
     ]
    }
   ],
   "source": [
    "# Train the neural network\n",
    "scaled_balanced_mdl = mdl.fit(x_train_scaled, y_train, validation_split = 0.1, epochs = 5)"
   ]
  },
  {
   "cell_type": "markdown",
   "id": "64d6bf4c",
   "metadata": {},
   "source": [
    "## Model Evaluation"
   ]
  },
  {
   "cell_type": "code",
   "execution_count": 122,
   "id": "6e2c2e03",
   "metadata": {
    "scrolled": true
   },
   "outputs": [
    {
     "name": "stdout",
     "output_type": "stream",
     "text": [
      "60/60 [==============================] - 4s 61ms/step - loss: 0.2420 - acc: 0.9022\n",
      "Test Accuracy For x_train_scaled After Resampled Data:  90.21567702293396\n"
     ]
    }
   ],
   "source": [
    "loss, accuracy = mdl.evaluate(X_test_scaled, Y_test)\n",
    "print(\"Test Accuracy For x_train_scaled After Resampled Data: \", accuracy * 100)"
   ]
  },
  {
   "cell_type": "code",
   "execution_count": 123,
   "id": "d838cf92",
   "metadata": {
    "scrolled": false
   },
   "outputs": [
    {
     "name": "stdout",
     "output_type": "stream",
     "text": [
      "60/60 [==============================] - 4s 61ms/step\n",
      "\n",
      "Classification Report for CNN Model Trained With x_train_scaled after data resampling\n",
      "              precision    recall  f1-score   support\n",
      "\n",
      "           0       0.86      0.95      0.90       921\n",
      "           1       0.95      0.86      0.90       980\n",
      "\n",
      "    accuracy                           0.90      1901\n",
      "   macro avg       0.91      0.90      0.90      1901\n",
      "weighted avg       0.91      0.90      0.90      1901\n",
      "\n"
     ]
    }
   ],
   "source": [
    "# Make predictions\n",
    "y_pred_mdl = mdl.predict(X_test_scaled)\n",
    "\n",
    "# Convert predicted probabilities to class labels\n",
    "y_pred_class_mdl = np.argmax(y_pred_mdl, axis=1)\n",
    "\n",
    "# Create a classification report\n",
    "rprt = classification_report(Y_test, y_pred_class_mdl)\n",
    "\n",
    "# Print the report\n",
    "print(\"\\nClassification Report for CNN Model Trained With x_train_scaled after data resampling\")\n",
    "print(rprt)"
   ]
  },
  {
   "cell_type": "markdown",
   "id": "d6c8976f",
   "metadata": {},
   "source": [
    "## Model Training - Convolutional Neural Network (For Unscaled x_train - After Resample)"
   ]
  },
  {
   "cell_type": "code",
   "execution_count": 124,
   "id": "622f7fc5",
   "metadata": {
    "scrolled": true
   },
   "outputs": [],
   "source": [
    "# Create a sequential model using Keras\n",
    "m = keras.Sequential()\n",
    "\n",
    "# Convolutional Layer 1:\n",
    "m.add(keras.layers.Conv2D(32, kernel_size=(3, 3), activation=\"relu\", input_shape=(128, 128, 3)))\n",
    "m.add(keras.layers.MaxPooling2D(pool_size=(2, 2)))\n",
    "\n",
    "# Convolutional Layer 2:\n",
    "m.add(keras.layers.Conv2D(64, kernel_size=(3, 3), activation=\"relu\"))\n",
    "m.add(keras.layers.MaxPooling2D(pool_size=(2, 2)))\n",
    "\n",
    "# Flatten Layer: Flattens the output from the convolutional layers\n",
    "m.add(keras.layers.Flatten())\n",
    "\n",
    "# Fully Connected Layer 1:\n",
    "m.add(keras.layers.Dense(128, activation=\"relu\"))\n",
    "m.add(keras.layers.Dropout(0.5))  # Apply dropout for regularization\n",
    "\n",
    "# Fully Connected Layer 2:\n",
    "m.add(keras.layers.Dense(64, activation=\"relu\"))\n",
    "m.add(keras.layers.Dropout(0.5))  # Apply dropout for regularization\n",
    "\n",
    "# Output Layer:\n",
    "m.add(keras.layers.Dense(num_of_classes, activation=\"sigmoid\"))\n",
    "\n",
    "# Comments for layers:\n",
    "# - Convolutional layers are used to extract features from the input images.\n",
    "# - MaxPooling layers reduce spatial dimensions to down-sample the feature maps.\n",
    "# - The Flatten layer transforms the 2D feature maps into a 1D vector.\n",
    "# - Dense layers are fully connected layers for further processing.\n",
    "# - Dropout is applied to reduce overfitting by randomly setting a fraction of input units to zero.\n",
    "# - The output layer has as many neurons as there are classes with 'relu' activation."
   ]
  },
  {
   "cell_type": "code",
   "execution_count": 125,
   "id": "5933fad7",
   "metadata": {
    "scrolled": true
   },
   "outputs": [],
   "source": [
    "# Compile the neural network\n",
    "m.compile(optimizer = \"adam\", loss = \"sparse_categorical_crossentropy\", metrics = [\"acc\"])"
   ]
  },
  {
   "cell_type": "code",
   "execution_count": 126,
   "id": "a37e13eb",
   "metadata": {
    "scrolled": false
   },
   "outputs": [
    {
     "name": "stdout",
     "output_type": "stream",
     "text": [
      "Epoch 1/5\n",
      "214/214 [==============================] - 46s 216ms/step - loss: 8.1815 - acc: 0.5995 - val_loss: 0.6357 - val_acc: 0.6702\n",
      "Epoch 2/5\n",
      "214/214 [==============================] - 47s 218ms/step - loss: 0.6329 - acc: 0.6757 - val_loss: 0.7344 - val_acc: 0.6649\n",
      "Epoch 3/5\n",
      "214/214 [==============================] - 45s 213ms/step - loss: 0.6079 - acc: 0.6894 - val_loss: 0.5894 - val_acc: 0.7004\n",
      "Epoch 4/5\n",
      "214/214 [==============================] - 46s 213ms/step - loss: 0.5777 - acc: 0.7156 - val_loss: 0.6031 - val_acc: 0.7359\n",
      "Epoch 5/5\n",
      "214/214 [==============================] - 45s 211ms/step - loss: 0.5350 - acc: 0.7423 - val_loss: 0.5967 - val_acc: 0.7372\n"
     ]
    }
   ],
   "source": [
    "# Train the neural network, in here we don't use the scaled down x_train to train the model\n",
    "unscaled_mdl = m.fit(x_train, y_train, validation_split = 0.1, epochs = 5)"
   ]
  },
  {
   "cell_type": "markdown",
   "id": "cdafb6a4",
   "metadata": {},
   "source": [
    "## Model Training - Convolutional Neural Network (For Unscaled X_train - Before Resample)"
   ]
  },
  {
   "cell_type": "code",
   "execution_count": 127,
   "id": "0235e4f7",
   "metadata": {},
   "outputs": [],
   "source": [
    "# Create a sequential model using Keras\n",
    "m1 = keras.Sequential()\n",
    "\n",
    "# Convolutional Layer 1:\n",
    "m1.add(keras.layers.Conv2D(32, kernel_size=(3, 3), activation=\"relu\", input_shape=(128, 128, 3)))\n",
    "m1.add(keras.layers.MaxPooling2D(pool_size=(2, 2)))\n",
    "\n",
    "# Convolutional Layer 2:\n",
    "m1.add(keras.layers.Conv2D(64, kernel_size=(3, 3), activation=\"relu\"))\n",
    "m1.add(keras.layers.MaxPooling2D(pool_size=(2, 2)))\n",
    "\n",
    "# Flatten Layer: Flattens the output from the convolutional layers\n",
    "m1.add(keras.layers.Flatten())\n",
    "\n",
    "# Fully Connected Layer 1:\n",
    "m1.add(keras.layers.Dense(128, activation=\"relu\"))\n",
    "m1.add(keras.layers.Dropout(0.5))  # Apply dropout for regularization\n",
    "\n",
    "# Fully Connected Layer 2:\n",
    "m1.add(keras.layers.Dense(64, activation=\"relu\"))\n",
    "m1.add(keras.layers.Dropout(0.5))  # Apply dropout for regularization\n",
    "\n",
    "# Output Layer:\n",
    "m1.add(keras.layers.Dense(num_of_classes, activation=\"sigmoid\"))\n",
    "\n",
    "# Comments for layers:\n",
    "# - Convolutional layers are used to extract features from the input images.\n",
    "# - MaxPooling layers reduce spatial dimensions to down-sample the feature maps.\n",
    "# - The Flatten layer transforms the 2D feature maps into a 1D vector.\n",
    "# - Dense layers are fully connected layers for further processing.\n",
    "# - Dropout is applied to reduce overfitting by randomly setting a fraction of input units to zero.\n",
    "# - The output layer has as many neurons as there are classes with 'relu' activation."
   ]
  },
  {
   "cell_type": "code",
   "execution_count": 128,
   "id": "1f663ce3",
   "metadata": {},
   "outputs": [],
   "source": [
    "# Compile the neural network\n",
    "m1.compile(optimizer = \"adam\", loss = \"sparse_categorical_crossentropy\", metrics = [\"acc\"])"
   ]
  },
  {
   "cell_type": "code",
   "execution_count": 129,
   "id": "4c36a6d2",
   "metadata": {},
   "outputs": [
    {
     "name": "stdout",
     "output_type": "stream",
     "text": [
      "Epoch 1/5\n",
      "194/194 [==============================] - 42s 213ms/step - loss: 13.6773 - acc: 0.5757 - val_loss: 0.6492 - val_acc: 0.6084\n",
      "Epoch 2/5\n",
      "194/194 [==============================] - 41s 212ms/step - loss: 0.6216 - acc: 0.6605 - val_loss: 0.6245 - val_acc: 0.6638\n",
      "Epoch 3/5\n",
      "194/194 [==============================] - 41s 210ms/step - loss: 0.5747 - acc: 0.7033 - val_loss: 0.6007 - val_acc: 0.7103\n",
      "Epoch 4/5\n",
      "194/194 [==============================] - 41s 212ms/step - loss: 0.5310 - acc: 0.7466 - val_loss: 0.5992 - val_acc: 0.7191\n",
      "Epoch 5/5\n",
      "194/194 [==============================] - 41s 211ms/step - loss: 0.5241 - acc: 0.7397 - val_loss: 0.6269 - val_acc: 0.6812\n"
     ]
    }
   ],
   "source": [
    "# Train the neural network, in here we don't use the scaled down X_train to train the model\n",
    "unscaled_mdl1 = m1.fit(X_train, Y_train, validation_split = 0.1, epochs = 5)"
   ]
  },
  {
   "cell_type": "markdown",
   "id": "91e24be9",
   "metadata": {},
   "source": [
    "## Model Evaluation"
   ]
  },
  {
   "cell_type": "code",
   "execution_count": 130,
   "id": "586ddfaa",
   "metadata": {
    "scrolled": true
   },
   "outputs": [
    {
     "name": "stdout",
     "output_type": "stream",
     "text": [
      "60/60 [==============================] - 4s 66ms/step - loss: 0.5552 - acc: 0.7401\n",
      "Test Accuracy For x_train After Resample:  74.01367425918579\n",
      "\n",
      "\n",
      "54/54 [==============================] - 4s 65ms/step - loss: 0.6678 - acc: 0.6719\n",
      "Test Accuracy For X_train Before Resample:  67.19114184379578\n"
     ]
    }
   ],
   "source": [
    "# This accuracy is for not scale down x_train\n",
    "loss, accuracy = m.evaluate(X_test, Y_test)\n",
    "print(\"Test Accuracy For x_train After Resample: \", accuracy * 100)\n",
    "\n",
    "print(\"\\n\")\n",
    "\n",
    "# This accuracy is for not scale down X_train\n",
    "loss, accuracy = m1.evaluate(x_test, y_test)\n",
    "print(\"Test Accuracy For X_train Before Resample: \", accuracy * 100)"
   ]
  },
  {
   "cell_type": "code",
   "execution_count": 131,
   "id": "7fede7e6",
   "metadata": {
    "scrolled": false
   },
   "outputs": [
    {
     "name": "stdout",
     "output_type": "stream",
     "text": [
      "Classification Report for CNN Model Trained With x_train after data sampling\n",
      "\n",
      "60/60 [==============================] - 4s 66ms/step\n",
      "              precision    recall  f1-score   support\n",
      "\n",
      "           0       0.71      0.79      0.75       921\n",
      "           1       0.78      0.70      0.73       980\n",
      "\n",
      "    accuracy                           0.74      1901\n",
      "   macro avg       0.74      0.74      0.74      1901\n",
      "weighted avg       0.74      0.74      0.74      1901\n",
      "\n",
      "\n",
      "\n",
      "Classification Report for CNN Model Trained With X_train before data sampling\n",
      "\n",
      "54/54 [==============================] - 4s 67ms/step\n",
      "              precision    recall  f1-score   support\n",
      "\n",
      "           0       0.62      0.71      0.66       768\n",
      "           1       0.73      0.64      0.68       948\n",
      "\n",
      "    accuracy                           0.67      1716\n",
      "   macro avg       0.67      0.68      0.67      1716\n",
      "weighted avg       0.68      0.67      0.67      1716\n",
      "\n"
     ]
    }
   ],
   "source": [
    "warnings.filterwarnings(\"ignore\")\n",
    "# Make predictions\n",
    "print(\"Classification Report for CNN Model Trained With x_train after data sampling\\n\")\n",
    "y_prediction = m.predict(X_test)\n",
    "\n",
    "# Convert predicted probabilities to class labels\n",
    "y_pred_c = np.argmax(y_prediction, axis=1)\n",
    "\n",
    "# Create a classification report\n",
    "rpt = classification_report(Y_test, y_pred_c)\n",
    "\n",
    "# Print the report\n",
    "print(rpt)\n",
    "\n",
    "print(\"\\n\")\n",
    "\n",
    "# Make predictions\n",
    "print(\"Classification Report for CNN Model Trained With X_train before data sampling\\n\")\n",
    "y_pr = m1.predict(x_test)\n",
    "\n",
    "# Convert predicted probabilities to class labels\n",
    "y_pred_cl = np.argmax(y_pr, axis=1)\n",
    "\n",
    "# Create a classification report\n",
    "rp = classification_report(y_test, y_pred_cl)\n",
    "\n",
    "# Print the report\n",
    "print(rp)"
   ]
  },
  {
   "cell_type": "markdown",
   "id": "b02b7e56",
   "metadata": {},
   "source": [
    "## Summary Of Different Models Accuracy - Data Resampling"
   ]
  },
  {
   "cell_type": "code",
   "execution_count": 132,
   "id": "2e963250",
   "metadata": {},
   "outputs": [
    {
     "name": "stdout",
     "output_type": "stream",
     "text": [
      "54/54 [==============================] - 4s 67ms/step - loss: 0.3071 - acc: 0.8735\n",
      "Test Accuracy For X_train_scaled Before Data Resampling:  87.35431432723999\n",
      "\n",
      "\n",
      "60/60 [==============================] - 4s 68ms/step - loss: 0.2420 - acc: 0.9022\n",
      "Test Accuracy For x_train_scaled After Data Resampling:  90.21567702293396\n",
      "\n",
      "\n",
      "54/54 [==============================] - 4s 67ms/step - loss: 0.6678 - acc: 0.6719\n",
      "Test Accuracy For X_train Before Data Resampling:  67.19114184379578\n",
      "\n",
      "\n",
      "60/60 [==============================] - 4s 70ms/step - loss: 0.5552 - acc: 0.7401\n",
      "Test Accuracy For x_train After Data Resampling:  74.01367425918579\n"
     ]
    }
   ],
   "source": [
    "# This accuracy is for scaled down X_train (before data resampling)\n",
    "loss, accuracy = model.evaluate(x_test_scaled, y_test)\n",
    "print(\"Test Accuracy For X_train_scaled Before Data Resampling: \", accuracy * 100)\n",
    "\n",
    "print(\"\\n\")\n",
    "\n",
    "# This accuracy is for scaled down x_train (after data resampling)\n",
    "loss, accuracy = mdl.evaluate(X_test_scaled, Y_test)\n",
    "print(\"Test Accuracy For x_train_scaled After Data Resampling: \", accuracy * 100)\n",
    "\n",
    "print(\"\\n\")\n",
    "\n",
    "# This accuracy is for not scale down X_train (before data resampling)\n",
    "loss, accuracy = m1.evaluate(x_test, y_test)\n",
    "print(\"Test Accuracy For X_train Before Data Resampling: \", accuracy * 100)\n",
    "\n",
    "print(\"\\n\")\n",
    "\n",
    "# This accuracy is for not scale down x_train (after data resampling)\n",
    "loss, accuracy = m.evaluate(X_test, Y_test)\n",
    "print(\"Test Accuracy For x_train After Data Resampling: \", accuracy * 100)"
   ]
  },
  {
   "cell_type": "markdown",
   "id": "0f01293e",
   "metadata": {},
   "source": [
    "## Data Undersampling - To Handle Unbalance Dataset"
   ]
  },
  {
   "cell_type": "code",
   "execution_count": 133,
   "id": "8ff9bd1b",
   "metadata": {},
   "outputs": [],
   "source": [
    "srce_dir1 = \"/Users/_fangkhai/Documents/Academic/Computer Science Semester 7/Image Processing and Computer Vision/Materials/Assignment Dataset/data 2/with_mask_scrap\"\n",
    "srce_dir2 = \"/Users/_fangkhai/Documents/Academic/Computer Science Semester 7/Image Processing and Computer Vision/Materials/Assignment Dataset/data 2/with_mask\"\n",
    "dst_dir = \"/Users/_fangkhai/Documents/Academic/Computer Science Semester 7/Image Processing and Computer Vision/Materials/Assignment Dataset/data 2/Unbalance Dataset\"\n",
    "\n",
    "# Create the destination directory \n",
    "os.makedirs(dst_dir, exist_ok=True)\n",
    "\n",
    "# Copy images from the source directories to the destination directory\n",
    "for filename in os.listdir(srce_dir1):\n",
    "    shutil.copy(os.path.join(srce_dir1, filename), os.path.join(dst_dir, filename))\n",
    "\n",
    "for filename in os.listdir(srce_dir2):\n",
    "    shutil.copy(os.path.join(srce_dir2, filename), os.path.join(dst_dir, filename))"
   ]
  },
  {
   "cell_type": "code",
   "execution_count": 134,
   "id": "05a20f63",
   "metadata": {},
   "outputs": [
    {
     "name": "stdout",
     "output_type": "stream",
     "text": [
      "There are 4752 images in with_mask dataset\n",
      "There are 3828 images in without_mask dataset\n",
      "\n",
      "∴ We can clearly see that now our dataset is \u001b[1mUNBALANCE\u001b[0m after merging the initial with_mask dataset with the scrapped WithMask dataset\n"
     ]
    }
   ],
   "source": [
    "# Directory where with_mask (merged) dataset is stored\n",
    "d = \"/Users/_fangkhai/Documents/Academic/Computer Science Semester 7/Image Processing and Computer Vision/Materials/Assignment Dataset/data 2/Unbalance Dataset/with_mask\"\n",
    "\n",
    "# Directory where without_mask dataset is stored\n",
    "d1 = \"/Users/_fangkhai/Documents/Academic/Computer Science Semester 7/Image Processing and Computer Vision/Materials/Assignment Dataset/data 2/Unbalance Dataset/without_mask\"\n",
    "\n",
    "# Use os.listdir to get a list of files in both of the directory\n",
    "im_files = [f for f in os.listdir(d) if f.endswith('.jpg')]\n",
    "im_file = [f for f in os.listdir(d1) if f.endswith('.jpg')]\n",
    "\n",
    "# Count the number of image files in both of the directory\n",
    "num_im = len(im_files)\n",
    "num_i = len(im_file)\n",
    "\n",
    "print(f\"There are {num_im} images in with_mask dataset\")\n",
    "print(f\"There are {num_i} images in without_mask dataset\")\n",
    "\n",
    "print(\"\\n∴ We can clearly see that now our dataset is \\033[1mUNBALANCE\\033[0m after merging the initial with_mask dataset with the scrapped WithMask dataset\")"
   ]
  },
  {
   "cell_type": "markdown",
   "id": "ba825f22",
   "metadata": {},
   "source": [
    "## Image Processing\n",
    "\n",
    "- In here, we will perform:\n",
    "    1. Image resizing\n",
    "    2. Convert images to numpy arrays"
   ]
  },
  {
   "cell_type": "code",
   "execution_count": 135,
   "id": "7fd627a1",
   "metadata": {},
   "outputs": [],
   "source": [
    "# Determine the number of samples for both classes (undersampling)\n",
    "num_samples = min(num_im, num_i)"
   ]
  },
  {
   "cell_type": "code",
   "execution_count": 136,
   "id": "1f655e8c",
   "metadata": {},
   "outputs": [],
   "source": [
    "# Paths to the directories containing \"with_mask\" and \"without_mask\" images\n",
    "with_mask_path = \"/Users/_fangkhai/Documents/Academic/Computer Science Semester 7/Image Processing and Computer Vision/Materials/Assignment Dataset/data 2/Unbalance Dataset/with_mask\"\n",
    "without_mask_path = \"/Users/_fangkhai/Documents/Academic/Computer Science Semester 7/Image Processing and Computer Vision/Materials/Assignment Dataset/data 2/Unbalance Dataset/without_mask\"\n",
    "\n",
    "# List all files in the directories\n",
    "with_mask_files = os.listdir(with_mask_path)\n",
    "without_mask_files = os.listdir(without_mask_path)\n",
    "\n",
    "# Remove hidden files (e.g., \".DS_Store\") from the lists\n",
    "with_mask_files = [file for file in with_mask_files if not file.startswith(\".\")]\n",
    "without_mask_files = [file for file in without_mask_files if not file.startswith(\".\")]\n",
    "\n",
    "# Shuffle the dataset to ensure randomness\n",
    "np.random.shuffle(with_mask_files)\n",
    "np.random.shuffle(without_mask_files)\n",
    "\n",
    "# Create arrays to store the selected samples for each class\n",
    "with_mask_samples = []\n",
    "without_mask_samples = []\n",
    "\n",
    "# Define the image size (128x128)\n",
    "image_size = (128, 128)\n",
    "\n",
    "# Create a balanced dataset by selecting a subset of images from both classes\n",
    "num_samples = min(len(with_mask_files), len(without_mask_files))\n",
    "\n",
    "for i in range(num_samples):\n",
    "    with_mask_image = Image.open(os.path.join(with_mask_path, with_mask_files[i]))\n",
    "    without_mask_image = Image.open(os.path.join(without_mask_path, without_mask_files[i]))\n",
    "\n",
    "    # Resize and convert images to ensure consistent shape\n",
    "    with_mask_image = with_mask_image.resize(image_size).convert(\"RGB\")\n",
    "    without_mask_image = without_mask_image.resize(image_size).convert(\"RGB\")\n",
    "    \n",
    "    # Append the images to the respective class arrays\n",
    "    with_mask_samples.append(np.array(with_mask_image)) \n",
    "    without_mask_samples.append(np.array(without_mask_image))"
   ]
  },
  {
   "cell_type": "code",
   "execution_count": 137,
   "id": "2189d599",
   "metadata": {},
   "outputs": [],
   "source": [
    "# Convert the arrays to NumPy arrays for further processing\n",
    "with_mask_data = np.array(with_mask_samples)\n",
    "without_mask_data = np.array(without_mask_samples)\n",
    "\n",
    "# Combine the balanced datasets for training\n",
    "blnc_data = np.concatenate((with_mask_data, without_mask_data))"
   ]
  },
  {
   "cell_type": "code",
   "execution_count": 138,
   "id": "b0f8f1ed",
   "metadata": {},
   "outputs": [
    {
     "name": "stdout",
     "output_type": "stream",
     "text": [
      "Before Undersample With Mask Dataset Length:  4752\n",
      "\n",
      "After Undersample With Mask Dataset Length:  3828\n"
     ]
    }
   ],
   "source": [
    "print(\"Before Undersample With Mask Dataset Length: \", len(im_files))\n",
    "print(\"\\nAfter Undersample With Mask Dataset Length: \", len(with_mask_samples))"
   ]
  },
  {
   "cell_type": "code",
   "execution_count": 139,
   "id": "9e7bfb21",
   "metadata": {},
   "outputs": [
    {
     "name": "stdout",
     "output_type": "stream",
     "text": [
      "\u001b[1mBefore Undersample\u001b[0m\n",
      "Length Of With Mask Dataset:  4752\n",
      "Length Of Without Mask Dataset:  3828\n",
      "\n",
      "∴ We can clearly see that now our dataset is \u001b[1mUNBALANCED\u001b[0m before performing Undersampling)\n",
      "\n",
      "\n",
      "\u001b[1mAfter Undersample\u001b[0m\n",
      "Length Of With Mask Dataset:  3828\n",
      "Length Of Without Mask Dataset:  3828\n",
      "\n",
      "∴ We can clearly see that now our dataset is \u001b[1mBALANCED\u001b[0m after performing Undersampling)\n"
     ]
    }
   ],
   "source": [
    "print(\"\\033[1mBefore Undersample\\033[0m\")\n",
    "print(\"Length Of With Mask Dataset: \",len(im_files))\n",
    "print(\"Length Of Without Mask Dataset: \",len(im_file))\n",
    "print(\"\\n∴ We can clearly see that now our dataset is \\033[1mUNBALANCED\\033[0m before performing Undersampling)\")\n",
    "\n",
    "print(\"\\n\\n\\033[1mAfter Undersample\\033[0m\")\n",
    "print(\"Length Of With Mask Dataset: \",len(with_mask_samples))\n",
    "print(\"Length Of Without Mask Dataset: \",len(im_file))\n",
    "print(\"\\n∴ We can clearly see that now our dataset is \\033[1mBALANCED\\033[0m after performing Undersampling)\")"
   ]
  },
  {
   "cell_type": "markdown",
   "id": "5ce01dec",
   "metadata": {},
   "source": [
    "## Creating Labels For The Two Class Of Images"
   ]
  },
  {
   "cell_type": "code",
   "execution_count": 140,
   "id": "8e96891f",
   "metadata": {},
   "outputs": [],
   "source": [
    "# Creating the label for with mask\n",
    "with_mask_lbl = [1]*3828\n",
    "\n",
    "# Creating the label for without mask\n",
    "without_mask_lbl = [0]*3828"
   ]
  },
  {
   "cell_type": "code",
   "execution_count": 141,
   "id": "604d18a7",
   "metadata": {},
   "outputs": [],
   "source": [
    "lbl = with_mask_lbl + without_mask_lbl"
   ]
  },
  {
   "cell_type": "code",
   "execution_count": 142,
   "id": "70ce8a73",
   "metadata": {},
   "outputs": [
    {
     "name": "stdout",
     "output_type": "stream",
     "text": [
      "Before Undersample Label Length:  8580\n",
      "\n",
      "After Undersampled Label Length:  7656\n"
     ]
    }
   ],
   "source": [
    "print(\"Before Undersample Label Length: \", len(labels))\n",
    "print(\"\\nAfter Undersampled Label Length: \", len(lbl))"
   ]
  },
  {
   "cell_type": "code",
   "execution_count": 143,
   "id": "99a05e33",
   "metadata": {},
   "outputs": [
    {
     "data": {
      "text/plain": [
       "7656"
      ]
     },
     "execution_count": 143,
     "metadata": {},
     "output_type": "execute_result"
    }
   ],
   "source": [
    "len(blnc_data)"
   ]
  },
  {
   "cell_type": "code",
   "execution_count": 144,
   "id": "e01dcaf1",
   "metadata": {},
   "outputs": [
    {
     "data": {
      "text/plain": [
       "(128, 128, 3)"
      ]
     },
     "execution_count": 144,
     "metadata": {},
     "output_type": "execute_result"
    }
   ],
   "source": [
    "blnc_data[0].shape"
   ]
  },
  {
   "cell_type": "markdown",
   "id": "29113f33",
   "metadata": {},
   "source": [
    "## Convert Image List And Label List To Numpy Arrays"
   ]
  },
  {
   "cell_type": "code",
   "execution_count": 145,
   "id": "489de54c",
   "metadata": {},
   "outputs": [],
   "source": [
    "a = np.array(blnc_data)\n",
    "b = np.array(lbl)"
   ]
  },
  {
   "cell_type": "code",
   "execution_count": 146,
   "id": "b9ab7fd3",
   "metadata": {},
   "outputs": [
    {
     "data": {
      "text/plain": [
       "numpy.ndarray"
      ]
     },
     "execution_count": 146,
     "metadata": {},
     "output_type": "execute_result"
    }
   ],
   "source": [
    "type(a)"
   ]
  },
  {
   "cell_type": "code",
   "execution_count": 147,
   "id": "c8b5d71f",
   "metadata": {},
   "outputs": [
    {
     "data": {
      "text/plain": [
       "numpy.ndarray"
      ]
     },
     "execution_count": 147,
     "metadata": {},
     "output_type": "execute_result"
    }
   ],
   "source": [
    "type(b)"
   ]
  },
  {
   "cell_type": "markdown",
   "id": "b8b471de",
   "metadata": {},
   "source": [
    "## Train Test Split"
   ]
  },
  {
   "cell_type": "code",
   "execution_count": 148,
   "id": "41b177c2",
   "metadata": {},
   "outputs": [],
   "source": [
    "A_train, a_test, B_train, b_test = train_test_split(a, b, test_size = 0.2, random_state = 2)"
   ]
  },
  {
   "cell_type": "code",
   "execution_count": 149,
   "id": "fa61dcd0",
   "metadata": {},
   "outputs": [
    {
     "name": "stdout",
     "output_type": "stream",
     "text": [
      "(6124, 128, 128, 3) (6124,)\n",
      "(1532, 128, 128, 3) (1532,)\n"
     ]
    }
   ],
   "source": [
    "print(A_train.shape, B_train.shape)\n",
    "print(a_test.shape, b_test.shape)"
   ]
  },
  {
   "cell_type": "markdown",
   "id": "62e2284c",
   "metadata": {},
   "source": [
    "## Data Scaling"
   ]
  },
  {
   "cell_type": "code",
   "execution_count": 150,
   "id": "d4635693",
   "metadata": {},
   "outputs": [],
   "source": [
    "A_train_scaled = A_train / 255\n",
    "a_test_scaled = a_test / 255"
   ]
  },
  {
   "cell_type": "markdown",
   "id": "66cc838d",
   "metadata": {},
   "source": [
    "## Model Training - Convolutional Neural Network (For Scaled A_train - After Undersample)"
   ]
  },
  {
   "cell_type": "code",
   "execution_count": 151,
   "id": "5710931d",
   "metadata": {},
   "outputs": [],
   "source": [
    "# Create a sequential model using Keras\n",
    "model1 = keras.Sequential()\n",
    "\n",
    "# Convolutional Layer 1:\n",
    "model1.add(keras.layers.Conv2D(32, kernel_size=(3, 3), activation=\"relu\", input_shape=(128, 128, 3)))\n",
    "model1.add(keras.layers.MaxPooling2D(pool_size=(2, 2)))\n",
    "\n",
    "# Convolutional Layer 2:\n",
    "model1.add(keras.layers.Conv2D(64, kernel_size=(3, 3), activation=\"relu\"))\n",
    "model1.add(keras.layers.MaxPooling2D(pool_size=(2, 2)))\n",
    "\n",
    "# Flatten Layer: Flattens the output from the convolutional layers\n",
    "model1.add(keras.layers.Flatten())\n",
    "\n",
    "# Fully Connected Layer 1:\n",
    "model1.add(keras.layers.Dense(128, activation=\"relu\"))\n",
    "model1.add(keras.layers.Dropout(0.5))  # Apply dropout for regularization\n",
    "\n",
    "# Fully Connected Layer 2:\n",
    "model1.add(keras.layers.Dense(64, activation=\"relu\"))\n",
    "model1.add(keras.layers.Dropout(0.5))  # Apply dropout for regularization\n",
    "\n",
    "# Output Layer:\n",
    "model1.add(keras.layers.Dense(num_of_classes, activation=\"sigmoid\"))\n",
    "\n",
    "# Comments for layers:\n",
    "# - Convolutional layers are used to extract features from the input images.\n",
    "# - MaxPooling layers reduce spatial dimensions to down-sample the feature maps.\n",
    "# - The Flatten layer transforms the 2D feature maps into a 1D vector.\n",
    "# - Dense layers are fully connected layers for further processing.\n",
    "# - Dropout is applied to reduce overfitting by randomly setting a fraction of input units to zero.\n",
    "# - The output layer has as many neurons as there are classes with 'relu' activation."
   ]
  },
  {
   "cell_type": "code",
   "execution_count": 152,
   "id": "ab351407",
   "metadata": {},
   "outputs": [],
   "source": [
    "# Compile the neural network\n",
    "model1.compile(optimizer = \"adam\", loss = \"sparse_categorical_crossentropy\", metrics = [\"acc\"])"
   ]
  },
  {
   "cell_type": "code",
   "execution_count": 153,
   "id": "93e38d35",
   "metadata": {},
   "outputs": [
    {
     "name": "stdout",
     "output_type": "stream",
     "text": [
      "Epoch 1/4\n",
      "173/173 [==============================] - 41s 236ms/step - loss: 0.5565 - acc: 0.7721 - val_loss: 0.3979 - val_acc: 0.8352\n",
      "Epoch 2/4\n",
      "173/173 [==============================] - 52s 299ms/step - loss: 0.3509 - acc: 0.8568 - val_loss: 0.2914 - val_acc: 0.8907\n",
      "Epoch 3/4\n",
      "173/173 [==============================] - 37s 212ms/step - loss: 0.3124 - acc: 0.8721 - val_loss: 0.2648 - val_acc: 0.8923\n",
      "Epoch 4/4\n",
      "173/173 [==============================] - 37s 215ms/step - loss: 0.2863 - acc: 0.8768 - val_loss: 0.2966 - val_acc: 0.8809\n"
     ]
    }
   ],
   "source": [
    "# Train the neural network, in here we use the scaled down A_train to train the model\n",
    "model1_undersampled = model1.fit(A_train_scaled, B_train, validation_split = 0.1, epochs = 4)"
   ]
  },
  {
   "cell_type": "markdown",
   "id": "8ceab287",
   "metadata": {},
   "source": [
    "## Model Evaluation"
   ]
  },
  {
   "cell_type": "code",
   "execution_count": 154,
   "id": "e8c3a18f",
   "metadata": {},
   "outputs": [
    {
     "name": "stdout",
     "output_type": "stream",
     "text": [
      "48/48 [==============================] - 3s 60ms/step - loss: 0.3127 - acc: 0.8701\n",
      "Test Accuracy For A_train_scaled After Undersampled Data:  87.0104432106018\n"
     ]
    }
   ],
   "source": [
    "loss, accuracy = model1.evaluate(a_test_scaled, b_test)\n",
    "print(\"Test Accuracy For A_train_scaled After Undersampled Data: \", accuracy * 100)"
   ]
  },
  {
   "cell_type": "code",
   "execution_count": 155,
   "id": "6bf2581b",
   "metadata": {},
   "outputs": [
    {
     "name": "stdout",
     "output_type": "stream",
     "text": [
      "48/48 [==============================] - 3s 67ms/step\n",
      "\n",
      "Classification Report for CNN Model Trained With A_train_scaled after data undersampling\n",
      "              precision    recall  f1-score   support\n",
      "\n",
      "           0       0.93      0.80      0.86       758\n",
      "           1       0.82      0.94      0.88       774\n",
      "\n",
      "    accuracy                           0.87      1532\n",
      "   macro avg       0.88      0.87      0.87      1532\n",
      "weighted avg       0.88      0.87      0.87      1532\n",
      "\n"
     ]
    }
   ],
   "source": [
    "# Make predictions\n",
    "y_p = model1.predict(a_test_scaled)\n",
    "\n",
    "# Convert predicted probabilities to class labels\n",
    "y_pred_class_model1 = np.argmax(y_p, axis=1)\n",
    "\n",
    "# Create a classification report\n",
    "report1 = classification_report(b_test, y_pred_class_model1)\n",
    "\n",
    "# Print the report\n",
    "print(\"\\nClassification Report for CNN Model Trained With A_train_scaled after data undersampling\")\n",
    "print(report1)"
   ]
  },
  {
   "cell_type": "markdown",
   "id": "70fd2cbe",
   "metadata": {},
   "source": [
    "## Model Training - Convolutional Neural Network (For Unscaled A_train - After Undersample)"
   ]
  },
  {
   "cell_type": "code",
   "execution_count": 156,
   "id": "dca52a93",
   "metadata": {},
   "outputs": [],
   "source": [
    "# Create a sequential model using Keras\n",
    "model2 = keras.Sequential()\n",
    "\n",
    "# Convolutional Layer 1:\n",
    "model2.add(keras.layers.Conv2D(32, kernel_size=(3, 3), activation=\"relu\", input_shape=(128, 128, 3)))\n",
    "model2.add(keras.layers.MaxPooling2D(pool_size=(2, 2)))\n",
    "\n",
    "# Convolutional Layer 2:\n",
    "model2.add(keras.layers.Conv2D(64, kernel_size=(3, 3), activation=\"relu\"))\n",
    "model2.add(keras.layers.MaxPooling2D(pool_size=(2, 2)))\n",
    "\n",
    "# Flatten Layer: Flattens the output from the convolutional layers\n",
    "model2.add(keras.layers.Flatten())\n",
    "\n",
    "# Fully Connected Layer 1:\n",
    "model2.add(keras.layers.Dense(128, activation=\"relu\"))\n",
    "model2.add(keras.layers.Dropout(0.5))  # Apply dropout for regularization\n",
    "\n",
    "# Fully Connected Layer 2:\n",
    "model2.add(keras.layers.Dense(64, activation=\"relu\"))\n",
    "model2.add(keras.layers.Dropout(0.5))  # Apply dropout for regularization\n",
    "\n",
    "# Output Layer:\n",
    "model2.add(keras.layers.Dense(num_of_classes, activation=\"sigmoid\"))\n",
    "\n",
    "# Comments for layers:\n",
    "# - Convolutional layers are used to extract features from the input images.\n",
    "# - MaxPooling layers reduce spatial dimensions to down-sample the feature maps.\n",
    "# - The Flatten layer transforms the 2D feature maps into a 1D vector.\n",
    "# - Dense layers are fully connected layers for further processing.\n",
    "# - Dropout is applied to reduce overfitting by randomly setting a fraction of input units to zero.\n",
    "# - The output layer has as many neurons as there are classes with 'relu' activation."
   ]
  },
  {
   "cell_type": "code",
   "execution_count": 157,
   "id": "619c5b2b",
   "metadata": {},
   "outputs": [],
   "source": [
    "# Compile the neural network\n",
    "model2.compile(optimizer = \"adam\", loss = \"sparse_categorical_crossentropy\", metrics = [\"acc\"])"
   ]
  },
  {
   "cell_type": "code",
   "execution_count": 158,
   "id": "72c9cead",
   "metadata": {},
   "outputs": [
    {
     "name": "stdout",
     "output_type": "stream",
     "text": [
      "Epoch 1/4\n",
      "173/173 [==============================] - 37s 213ms/step - loss: 11.2946 - acc: 0.5583 - val_loss: 0.6888 - val_acc: 0.5628\n",
      "Epoch 2/4\n",
      "173/173 [==============================] - 36s 210ms/step - loss: 0.6989 - acc: 0.5932 - val_loss: 0.6839 - val_acc: 0.5579\n",
      "Epoch 3/4\n",
      "173/173 [==============================] - 37s 212ms/step - loss: 0.6693 - acc: 0.6073 - val_loss: 0.6572 - val_acc: 0.6101\n",
      "Epoch 4/4\n",
      "173/173 [==============================] - 36s 211ms/step - loss: 0.6473 - acc: 0.6416 - val_loss: 0.6832 - val_acc: 0.5693\n"
     ]
    }
   ],
   "source": [
    "# Train the neural network, in here we don't use the scaled down A_train to train the model\n",
    "model2_undersampled = model2.fit(A_train, B_train, validation_split = 0.1, epochs = 4)"
   ]
  },
  {
   "cell_type": "markdown",
   "id": "ea152b88",
   "metadata": {},
   "source": [
    "## Model Evaluation"
   ]
  },
  {
   "cell_type": "code",
   "execution_count": 159,
   "id": "705f7313",
   "metadata": {},
   "outputs": [
    {
     "name": "stdout",
     "output_type": "stream",
     "text": [
      "48/48 [==============================] - 3s 63ms/step - loss: 0.6820 - acc: 0.5666\n",
      "Test Accuracy For A_train After Undersampled Data:  56.65796399116516\n"
     ]
    }
   ],
   "source": [
    "loss, accuracy = model2.evaluate(a_test, b_test)\n",
    "print(\"Test Accuracy For A_train After Undersampled Data: \", accuracy * 100)"
   ]
  },
  {
   "cell_type": "code",
   "execution_count": 160,
   "id": "bd3a5db2",
   "metadata": {},
   "outputs": [
    {
     "name": "stdout",
     "output_type": "stream",
     "text": [
      "48/48 [==============================] - 3s 62ms/step\n",
      "\n",
      "Classification Report for CNN Model Trained With A_train after data undersampling\n",
      "              precision    recall  f1-score   support\n",
      "\n",
      "           0       0.54      0.90      0.67       758\n",
      "           1       0.71      0.24      0.36       774\n",
      "\n",
      "    accuracy                           0.57      1532\n",
      "   macro avg       0.62      0.57      0.52      1532\n",
      "weighted avg       0.62      0.57      0.51      1532\n",
      "\n"
     ]
    }
   ],
   "source": [
    "# Make predictions\n",
    "y_pr = model2.predict(a_test)\n",
    "\n",
    "# Convert predicted probabilities to class labels\n",
    "y_pred_class_model2 = np.argmax(y_pr, axis=1)\n",
    "\n",
    "# Create a classification report\n",
    "report2 = classification_report(b_test, y_pred_class_model2)\n",
    "\n",
    "# Print the report\n",
    "print(\"\\nClassification Report for CNN Model Trained With A_train after data undersampling\")\n",
    "print(report2)"
   ]
  },
  {
   "cell_type": "markdown",
   "id": "fe0824e9",
   "metadata": {},
   "source": [
    "## Summary Of Different Models Accuracy - Data Undersampling"
   ]
  },
  {
   "cell_type": "code",
   "execution_count": 161,
   "id": "e801075a",
   "metadata": {},
   "outputs": [
    {
     "name": "stdout",
     "output_type": "stream",
     "text": [
      "54/54 [==============================] - 3s 59ms/step - loss: 0.3071 - acc: 0.8735\n",
      "Test Accuracy For A_train_scaled Before Data Undersampling:  87.35431432723999\n",
      "\n",
      "\n",
      "48/48 [==============================] - 3s 66ms/step - loss: 0.3127 - acc: 0.8701\n",
      "Test Accuracy For A_train_scaled After Data Undersampling:  87.0104432106018\n",
      "\n",
      "\n",
      "54/54 [==============================] - 3s 61ms/step - loss: 0.6678 - acc: 0.6719\n",
      "Test Accuracy For A_train Before Data Undersampling:  67.19114184379578\n",
      "\n",
      "\n",
      "48/48 [==============================] - 3s 63ms/step - loss: 0.6820 - acc: 0.5666\n",
      "Test Accuracy For A_train After Data Undersampling:  56.65796399116516\n"
     ]
    }
   ],
   "source": [
    "# This accuracy is for scaled down A_train (before data undersampling)\n",
    "loss, accuracy = model.evaluate(x_test_scaled, y_test)\n",
    "print(\"Test Accuracy For A_train_scaled Before Data Undersampling: \", accuracy * 100)\n",
    "\n",
    "print(\"\\n\")\n",
    "\n",
    "# This accuracy is for scaled down A_train (after data undersampling)\n",
    "loss, accuracy = model1.evaluate(a_test_scaled, b_test)\n",
    "print(\"Test Accuracy For A_train_scaled After Data Undersampling: \", accuracy * 100)\n",
    "\n",
    "print(\"\\n\")\n",
    "\n",
    "# This accuracy is for not scale down A_train (before data undersampling)\n",
    "loss, accuracy = m1.evaluate(x_test, y_test)\n",
    "print(\"Test Accuracy For A_train Before Data Undersampling: \", accuracy * 100)\n",
    "\n",
    "print(\"\\n\")\n",
    "\n",
    "# This accuracy is for not scale down A_train (after data undersampling)\n",
    "loss, accuracy = model2.evaluate(a_test, b_test)\n",
    "print(\"Test Accuracy For A_train After Data Undersampling: \", accuracy * 100)"
   ]
  },
  {
   "cell_type": "markdown",
   "id": "eb7b27ca",
   "metadata": {},
   "source": [
    "## Data Augmentation (Using Test Size Of 20%, Train Size Of 80%)"
   ]
  },
  {
   "cell_type": "code",
   "execution_count": 162,
   "id": "a028e57d",
   "metadata": {},
   "outputs": [],
   "source": [
    "from keras.preprocessing.image import ImageDataGenerator"
   ]
  },
  {
   "cell_type": "code",
   "execution_count": 163,
   "id": "14054e58",
   "metadata": {},
   "outputs": [],
   "source": [
    "datagen = ImageDataGenerator(\n",
    "    rotation_range=40,       \n",
    "    width_shift_range=0.2,  \n",
    "    height_shift_range=0.2,\n",
    "    shear_range=0.4,      \n",
    "    zoom_range=0.4,         \n",
    "    horizontal_flip=True,   \n",
    "    fill_mode='nearest'     \n",
    ")"
   ]
  },
  {
   "cell_type": "code",
   "execution_count": 164,
   "id": "408c2cec",
   "metadata": {},
   "outputs": [],
   "source": [
    "datagen.fit(X_train_scaled)"
   ]
  },
  {
   "cell_type": "markdown",
   "id": "0656a359",
   "metadata": {},
   "source": [
    "## Model Training - Convolutional Neural Network (For Scaled X_train)"
   ]
  },
  {
   "cell_type": "code",
   "execution_count": 165,
   "id": "fce212c7",
   "metadata": {},
   "outputs": [],
   "source": [
    "# Create a sequential model using Keras\n",
    "model3 = keras.Sequential()\n",
    "\n",
    "# Convolutional Layer 1:\n",
    "model3.add(keras.layers.Conv2D(32, kernel_size=(3, 3), activation=\"relu\", input_shape=(128, 128, 3)))\n",
    "model3.add(keras.layers.MaxPooling2D(pool_size=(2, 2)))\n",
    "\n",
    "# Convolutional Layer 2:\n",
    "model3.add(keras.layers.Conv2D(64, kernel_size=(3, 3), activation=\"relu\"))\n",
    "model3.add(keras.layers.MaxPooling2D(pool_size=(2, 2)))\n",
    "\n",
    "# Flatten Layer: Flattens the output from the convolutional layers\n",
    "model3.add(keras.layers.Flatten())\n",
    "\n",
    "# Fully Connected Layer 1:\n",
    "model3.add(keras.layers.Dense(128, activation=\"relu\"))\n",
    "model3.add(keras.layers.Dropout(0.5))  # Apply dropout for regularization\n",
    "\n",
    "# Fully Connected Layer 2:\n",
    "model3.add(keras.layers.Dense(64, activation=\"relu\"))\n",
    "model3.add(keras.layers.Dropout(0.5))  # Apply dropout for regularization\n",
    "\n",
    "# Output Layer:\n",
    "model3.add(keras.layers.Dense(num_of_classes, activation=\"sigmoid\"))\n",
    "\n",
    "# Comments for layers:\n",
    "# - Convolutional layers are used to extract features from the input images.\n",
    "# - MaxPooling layers reduce spatial dimensions to down-sample the feature maps.\n",
    "# - The Flatten layer transforms the 2D feature maps into a 1D vector.\n",
    "# - Dense layers are fully connected layers for further processing.\n",
    "# - Dropout is applied to reduce overfitting by randomly setting a fraction of input units to zero.\n",
    "# - The output layer has as many neurons as there are classes with 'relu' activation."
   ]
  },
  {
   "cell_type": "code",
   "execution_count": 166,
   "id": "c318c617",
   "metadata": {},
   "outputs": [],
   "source": [
    "# Compile the neural network\n",
    "model3.compile(optimizer = \"adam\", loss = \"sparse_categorical_crossentropy\", metrics = [\"acc\"])"
   ]
  },
  {
   "cell_type": "code",
   "execution_count": 167,
   "id": "1a5ef16d",
   "metadata": {},
   "outputs": [
    {
     "name": "stdout",
     "output_type": "stream",
     "text": [
      "Epoch 1/5\n",
      "214/214 [==============================] - 52s 243ms/step - loss: 0.5736 - acc: 0.7219 - val_loss: 0.3923 - val_acc: 0.8427\n",
      "Epoch 2/5\n",
      "214/214 [==============================] - 52s 241ms/step - loss: 0.4674 - acc: 0.7894 - val_loss: 0.3651 - val_acc: 0.8473\n",
      "Epoch 3/5\n",
      "214/214 [==============================] - 52s 241ms/step - loss: 0.4574 - acc: 0.7982 - val_loss: 0.3626 - val_acc: 0.8479\n",
      "Epoch 4/5\n",
      "214/214 [==============================] - 52s 242ms/step - loss: 0.4498 - acc: 0.8053 - val_loss: 0.3814 - val_acc: 0.8427\n",
      "Epoch 5/5\n",
      "214/214 [==============================] - 52s 242ms/step - loss: 0.4420 - acc: 0.8071 - val_loss: 0.3256 - val_acc: 0.8666\n"
     ]
    }
   ],
   "source": [
    "# Train the model using the augmented data\n",
    "batch_size = 32\n",
    "epochs = 5 \n",
    "\n",
    "augmented_model = model3.fit(\n",
    "    datagen.flow(X_train_scaled, Y_train, batch_size=batch_size),\n",
    "    steps_per_epoch=len(X_train_scaled) // batch_size,\n",
    "    epochs=epochs,\n",
    "    validation_data=(x_test_scaled, y_test),\n",
    ")"
   ]
  },
  {
   "cell_type": "markdown",
   "id": "de8de394",
   "metadata": {},
   "source": [
    "## Model Evaluation "
   ]
  },
  {
   "cell_type": "code",
   "execution_count": 168,
   "id": "277cbb05",
   "metadata": {},
   "outputs": [
    {
     "name": "stdout",
     "output_type": "stream",
     "text": [
      "54/54 [==============================] - 3s 61ms/step - loss: 0.3256 - acc: 0.8666\n",
      "Test Accuracy For X_train With Data Augmentation:  86.6550087928772\n"
     ]
    }
   ],
   "source": [
    "loss, accuracy = model3.evaluate(x_test_scaled, y_test)\n",
    "print(\"Test Accuracy For X_train With Data Augmentation: \", accuracy * 100)"
   ]
  },
  {
   "cell_type": "code",
   "execution_count": 169,
   "id": "ab8f1809",
   "metadata": {},
   "outputs": [
    {
     "name": "stdout",
     "output_type": "stream",
     "text": [
      "54/54 [==============================] - 4s 65ms/step\n",
      "\n",
      "Classification Report for CNN Model Trained With X_train after data augmentation\n",
      "              precision    recall  f1-score   support\n",
      "\n",
      "           0       0.84      0.83      0.83       768\n",
      "           1       0.86      0.87      0.87       948\n",
      "\n",
      "    accuracy                           0.85      1716\n",
      "   macro avg       0.85      0.85      0.85      1716\n",
      "weighted avg       0.85      0.85      0.85      1716\n",
      "\n"
     ]
    }
   ],
   "source": [
    "# Make predictions\n",
    "y_pr1 = model3.predict(x_test)\n",
    "\n",
    "# Convert predicted probabilities to class labels\n",
    "y_pred_class_model3 = np.argmax(y_pr1, axis=1)\n",
    "\n",
    "# Create a classification report\n",
    "report3 = classification_report(y_test, y_pred_class_model3)\n",
    "\n",
    "# Print the report\n",
    "print(\"\\nClassification Report for CNN Model Trained With X_train after data augmentation\")\n",
    "print(report3) "
   ]
  },
  {
   "cell_type": "markdown",
   "id": "fe62ef99",
   "metadata": {},
   "source": [
    "## Data Augmentation (Using Test Size Of 10%, Train Size Of 90%)"
   ]
  },
  {
   "cell_type": "code",
   "execution_count": 170,
   "id": "4ea4a39a",
   "metadata": {},
   "outputs": [],
   "source": [
    "datage = ImageDataGenerator(\n",
    "    rotation_range=40,       \n",
    "    width_shift_range=0.2,  \n",
    "    height_shift_range=0.2,\n",
    "    shear_range=0.4,      \n",
    "    zoom_range=0.4,         \n",
    "    horizontal_flip=True,   \n",
    "    fill_mode='nearest'     \n",
    ")"
   ]
  },
  {
   "cell_type": "code",
   "execution_count": 171,
   "id": "84f74c66",
   "metadata": {},
   "outputs": [],
   "source": [
    "X_train1, x_test1, Y_train1, y_test1 = train_test_split(X, Y, test_size = 0.1, random_state = 2)"
   ]
  },
  {
   "cell_type": "code",
   "execution_count": 172,
   "id": "d3540c6e",
   "metadata": {},
   "outputs": [],
   "source": [
    "X_train1_scaled = X_train1 / 255\n",
    "x_test1_scaled = x_test1 / 255"
   ]
  },
  {
   "cell_type": "code",
   "execution_count": 173,
   "id": "0ca43a63",
   "metadata": {},
   "outputs": [],
   "source": [
    "datage.fit(X_train1_scaled)"
   ]
  },
  {
   "cell_type": "markdown",
   "id": "4ee529c8",
   "metadata": {},
   "source": [
    "## Model Training - Convolutional Neural Network (For Scaled X_train1)"
   ]
  },
  {
   "cell_type": "code",
   "execution_count": 174,
   "id": "d93cb8d1",
   "metadata": {},
   "outputs": [],
   "source": [
    "# Create a sequential model using Keras\n",
    "model4 = keras.Sequential()\n",
    "\n",
    "# Convolutional Layer 1:\n",
    "model4.add(keras.layers.Conv2D(32, kernel_size=(3, 3), activation=\"relu\", input_shape=(128, 128, 3)))\n",
    "model4.add(keras.layers.MaxPooling2D(pool_size=(2, 2)))\n",
    "\n",
    "# Convolutional Layer 2:\n",
    "model4.add(keras.layers.Conv2D(64, kernel_size=(3, 3), activation=\"relu\"))\n",
    "model4.add(keras.layers.MaxPooling2D(pool_size=(2, 2)))\n",
    "\n",
    "# Flatten Layer: Flattens the output from the convolutional layers\n",
    "model4.add(keras.layers.Flatten())\n",
    "\n",
    "# Fully Connected Layer 1:\n",
    "model4.add(keras.layers.Dense(128, activation=\"relu\"))\n",
    "model4.add(keras.layers.Dropout(0.5))  # Apply dropout for regularization\n",
    "\n",
    "# Fully Connected Layer 2:\n",
    "model4.add(keras.layers.Dense(64, activation=\"relu\"))\n",
    "model4.add(keras.layers.Dropout(0.5))  # Apply dropout for regularization\n",
    "\n",
    "# Output Layer:\n",
    "model4.add(keras.layers.Dense(num_of_classes, activation=\"sigmoid\"))\n",
    "\n",
    "# Comments for layers:\n",
    "# - Convolutional layers are used to extract features from the input images.\n",
    "# - MaxPooling layers reduce spatial dimensions to down-sample the feature maps.\n",
    "# - The Flatten layer transforms the 2D feature maps into a 1D vector.\n",
    "# - Dense layers are fully connected layers for further processing.\n",
    "# - Dropout is applied to reduce overfitting by randomly setting a fraction of input units to zero.\n",
    "# - The output layer has as many neurons as there are classes with 'relu' activation."
   ]
  },
  {
   "cell_type": "code",
   "execution_count": 175,
   "id": "ac20cdcf",
   "metadata": {},
   "outputs": [],
   "source": [
    "# Compile the neural network\n",
    "model4.compile(optimizer = \"adam\", loss = \"sparse_categorical_crossentropy\", metrics = [\"acc\"])"
   ]
  },
  {
   "cell_type": "code",
   "execution_count": 176,
   "id": "f547d497",
   "metadata": {},
   "outputs": [
    {
     "name": "stdout",
     "output_type": "stream",
     "text": [
      "Epoch 1/5\n",
      "241/241 [==============================] - 59s 245ms/step - loss: 0.5761 - acc: 0.7268 - val_loss: 0.3701 - val_acc: 0.8497\n",
      "Epoch 2/5\n",
      "241/241 [==============================] - 62s 256ms/step - loss: 0.4544 - acc: 0.8101 - val_loss: 0.3528 - val_acc: 0.8485\n",
      "Epoch 3/5\n",
      "241/241 [==============================] - 56s 233ms/step - loss: 0.4552 - acc: 0.8051 - val_loss: 0.3491 - val_acc: 0.8566\n",
      "Epoch 4/5\n",
      "241/241 [==============================] - 56s 232ms/step - loss: 0.4642 - acc: 0.7990 - val_loss: 0.3389 - val_acc: 0.8601\n",
      "Epoch 5/5\n",
      "241/241 [==============================] - 56s 232ms/step - loss: 0.4264 - acc: 0.8199 - val_loss: 0.3136 - val_acc: 0.8695\n"
     ]
    }
   ],
   "source": [
    "# Train the model using the augmented data\n",
    "batch_size = 32\n",
    "epochs = 5 \n",
    "\n",
    "augmented_mdl = model4.fit(\n",
    "    datage.flow(X_train1_scaled, Y_train1, batch_size=batch_size),\n",
    "    steps_per_epoch=len(X_train1_scaled) // batch_size,\n",
    "    epochs=epochs,\n",
    "    validation_data=(x_test1_scaled, y_test1),\n",
    ")"
   ]
  },
  {
   "cell_type": "markdown",
   "id": "77aa07a8",
   "metadata": {},
   "source": [
    "## Model Evaluation"
   ]
  },
  {
   "cell_type": "code",
   "execution_count": 177,
   "id": "f4357c5e",
   "metadata": {},
   "outputs": [
    {
     "name": "stdout",
     "output_type": "stream",
     "text": [
      "27/27 [==============================] - 2s 60ms/step - loss: 0.3136 - acc: 0.8695\n",
      "Test Accuracy For X_train1 With Data Augmentation:  86.9463860988617\n"
     ]
    }
   ],
   "source": [
    "loss, accuracy = model4.evaluate(x_test1_scaled, y_test1)\n",
    "print(\"Test Accuracy For X_train1 With Data Augmentation: \", accuracy * 100)"
   ]
  },
  {
   "cell_type": "code",
   "execution_count": 178,
   "id": "bd115c05",
   "metadata": {},
   "outputs": [
    {
     "name": "stdout",
     "output_type": "stream",
     "text": [
      "27/27 [==============================] - 2s 63ms/step\n",
      "\n",
      "Classification Report for CNN Model Trained With X_train1 after data augmentation\n",
      "              precision    recall  f1-score   support\n",
      "\n",
      "           0       0.82      0.86      0.84       377\n",
      "           1       0.89      0.85      0.87       481\n",
      "\n",
      "    accuracy                           0.86       858\n",
      "   macro avg       0.85      0.86      0.86       858\n",
      "weighted avg       0.86      0.86      0.86       858\n",
      "\n"
     ]
    }
   ],
   "source": [
    "# Make predictions\n",
    "y_pr2 = model4.predict(x_test1)\n",
    "\n",
    "# Convert predicted probabilities to class labels\n",
    "y_pred_class_model4 = np.argmax(y_pr2, axis=1)\n",
    "\n",
    "# Create a classification report\n",
    "report4 = classification_report(y_test1, y_pred_class_model4)\n",
    "\n",
    "# Print the report\n",
    "print(\"\\nClassification Report for CNN Model Trained With X_train1 after data augmentation\")\n",
    "print(report4) "
   ]
  },
  {
   "cell_type": "markdown",
   "id": "ef616a9e",
   "metadata": {},
   "source": [
    "## Regularization (For Scaled X_train - Use Of Test Size Of 20%, Train Size Of 80%)"
   ]
  },
  {
   "cell_type": "code",
   "execution_count": 179,
   "id": "9185972d",
   "metadata": {},
   "outputs": [],
   "source": [
    "from tensorflow.keras.regularizers import l2"
   ]
  },
  {
   "cell_type": "code",
   "execution_count": 180,
   "id": "09fa1391",
   "metadata": {},
   "outputs": [],
   "source": [
    "# Create a sequential model using Keras\n",
    "model5 = keras.Sequential()\n",
    "\n",
    "# Convolutional Layer 1:\n",
    "model5.add(keras.layers.Conv2D(32, kernel_size=(3, 3), activation=\"relu\", input_shape=(128, 128, 3)))\n",
    "model5.add(keras.layers.MaxPooling2D(pool_size=(2, 2)))\n",
    "\n",
    "# Convolutional Layer 2:\n",
    "model5.add(keras.layers.Conv2D(64, kernel_size=(3, 3), activation=\"relu\"))\n",
    "model5.add(keras.layers.MaxPooling2D(pool_size=(2, 2)))\n",
    "\n",
    "# Flatten Layer: Flattens the output from the convolutional layers\n",
    "model5.add(keras.layers.Flatten())\n",
    "\n",
    "# Fully Connected Layer 1:\n",
    "model5.add(keras.layers.Dense(128, activation=\"relu\", kernel_regularizer=l2(0.001)))\n",
    "model5.add(keras.layers.Dropout(0.5))  # Apply dropout for regularization\n",
    "\n",
    "# Fully Connected Layer 2:\n",
    "model5.add(keras.layers.Dense(64, activation=\"relu\", kernel_regularizer=l2(0.001)))\n",
    "model5.add(keras.layers.Dropout(0.5))  # Apply dropout for regularization\n",
    "\n",
    "# Output Layer:\n",
    "model5.add(keras.layers.Dense(num_of_classes, activation=\"sigmoid\"))\n",
    "\n",
    "# Comments for layers:\n",
    "# - Convolutional layers are used to extract features from the input images.\n",
    "# - MaxPooling layers reduce spatial dimensions to down-sample the feature maps.\n",
    "# - The Flatten layer transforms the 2D feature maps into a 1D vector.\n",
    "# - Dense layers are fully connected layers for further processing.\n",
    "# - Dropout is applied to reduce overfitting by randomly setting a fraction of input units to zero.\n",
    "# - The output layer has as many neurons as there are classes with 'relu' activation."
   ]
  },
  {
   "cell_type": "code",
   "execution_count": 181,
   "id": "ad80eeee",
   "metadata": {},
   "outputs": [],
   "source": [
    "# Compile the neural network\n",
    "model5.compile(optimizer = \"adam\", loss = \"sparse_categorical_crossentropy\", metrics = [\"acc\"])"
   ]
  },
  {
   "cell_type": "code",
   "execution_count": 182,
   "id": "165d75c5",
   "metadata": {},
   "outputs": [
    {
     "name": "stdout",
     "output_type": "stream",
     "text": [
      "Epoch 1/5\n",
      "194/194 [==============================] - 42s 216ms/step - loss: 0.6547 - acc: 0.7902 - val_loss: 0.4210 - val_acc: 0.8705\n",
      "Epoch 2/5\n",
      "194/194 [==============================] - 41s 213ms/step - loss: 0.4654 - acc: 0.8567 - val_loss: 0.3888 - val_acc: 0.8850\n",
      "Epoch 3/5\n",
      "194/194 [==============================] - 41s 214ms/step - loss: 0.4315 - acc: 0.8648 - val_loss: 0.4073 - val_acc: 0.8443\n",
      "Epoch 4/5\n",
      "194/194 [==============================] - 41s 213ms/step - loss: 0.4052 - acc: 0.8750 - val_loss: 0.3494 - val_acc: 0.8952\n",
      "Epoch 5/5\n",
      "194/194 [==============================] - 42s 215ms/step - loss: 0.3932 - acc: 0.8875 - val_loss: 0.3657 - val_acc: 0.8923\n"
     ]
    }
   ],
   "source": [
    "# Train the neural network, in here we don't use the scaled down A_train to train the model\n",
    "model5_regularization = model5.fit(X_train_scaled, Y_train, validation_split = 0.1, epochs = 5)"
   ]
  },
  {
   "cell_type": "markdown",
   "id": "a3ec8562",
   "metadata": {},
   "source": [
    "## Model Evaluation"
   ]
  },
  {
   "cell_type": "code",
   "execution_count": 183,
   "id": "d2612baf",
   "metadata": {},
   "outputs": [
    {
     "name": "stdout",
     "output_type": "stream",
     "text": [
      "54/54 [==============================] - 3s 64ms/step - loss: 0.4237 - acc: 0.8753\n",
      "Test Accuracy For X_train After Regularization:  87.52913475036621\n"
     ]
    }
   ],
   "source": [
    "loss, accuracy = model5.evaluate(x_test_scaled, y_test)\n",
    "print(\"Test Accuracy For X_train After Regularization: \", accuracy * 100)"
   ]
  },
  {
   "cell_type": "code",
   "execution_count": 184,
   "id": "88895be0",
   "metadata": {},
   "outputs": [
    {
     "name": "stdout",
     "output_type": "stream",
     "text": [
      "54/54 [==============================] - 3s 62ms/step\n",
      "\n",
      "Classification Report for CNN Model Trained With X_train after data augmentation\n",
      "              precision    recall  f1-score   support\n",
      "\n",
      "           0       0.83      0.91      0.87       768\n",
      "           1       0.92      0.85      0.88       948\n",
      "\n",
      "    accuracy                           0.88      1716\n",
      "   macro avg       0.87      0.88      0.87      1716\n",
      "weighted avg       0.88      0.88      0.88      1716\n",
      "\n"
     ]
    }
   ],
   "source": [
    "# Make predictions\n",
    "y_pr3 = model5.predict(x_test_scaled)\n",
    "\n",
    "# Convert predicted probabilities to class labels\n",
    "y_pred_class_model5 = np.argmax(y_pr3, axis=1)\n",
    "\n",
    "# Create a classification report\n",
    "report5 = classification_report(y_test, y_pred_class_model5)\n",
    "\n",
    "# Print the report\n",
    "print(\"\\nClassification Report for CNN Model Trained With X_train after data augmentation\")\n",
    "print(report5) "
   ]
  },
  {
   "cell_type": "markdown",
   "id": "80e0dee4",
   "metadata": {},
   "source": [
    "## Regularization (For Scaled X_train1 - Use Of Test Size Of 10%, Train Size Of 90%)"
   ]
  },
  {
   "cell_type": "code",
   "execution_count": 185,
   "id": "5432ea7d",
   "metadata": {},
   "outputs": [],
   "source": [
    "# Create a sequential model using Keras\n",
    "model6 = keras.Sequential()\n",
    "\n",
    "# Convolutional Layer 1:\n",
    "model6.add(keras.layers.Conv2D(32, kernel_size=(3, 3), activation=\"relu\", input_shape=(128, 128, 3)))\n",
    "model6.add(keras.layers.MaxPooling2D(pool_size=(2, 2)))\n",
    "\n",
    "# Convolutional Layer 2:\n",
    "model6.add(keras.layers.Conv2D(64, kernel_size=(3, 3), activation=\"relu\"))\n",
    "model6.add(keras.layers.MaxPooling2D(pool_size=(2, 2)))\n",
    "\n",
    "# Flatten Layer: Flattens the output from the convolutional layers\n",
    "model6.add(keras.layers.Flatten())\n",
    "\n",
    "# Fully Connected Layer 1:\n",
    "model6.add(keras.layers.Dense(128, activation=\"relu\", kernel_regularizer=l2(0.001)))\n",
    "model6.add(keras.layers.Dropout(0.5))  # Apply dropout for regularization\n",
    "\n",
    "# Fully Connected Layer 2:\n",
    "model6.add(keras.layers.Dense(64, activation=\"relu\", kernel_regularizer=l2(0.001)))\n",
    "model6.add(keras.layers.Dropout(0.5))  # Apply dropout for regularization\n",
    "\n",
    "# Output Layer:\n",
    "model6.add(keras.layers.Dense(num_of_classes, activation=\"sigmoid\"))\n",
    "\n",
    "# Comments for layers:\n",
    "# - Convolutional layers are used to extract features from the input images.\n",
    "# - MaxPooling layers reduce spatial dimensions to down-sample the feature maps.\n",
    "# - The Flatten layer transforms the 2D feature maps into a 1D vector.\n",
    "# - Dense layers are fully connected layers for further processing.\n",
    "# - Dropout is applied to reduce overfitting by randomly setting a fraction of input units to zero.\n",
    "# - The output layer has as many neurons as there are classes with 'relu' activation."
   ]
  },
  {
   "cell_type": "code",
   "execution_count": 186,
   "id": "08fa14ea",
   "metadata": {},
   "outputs": [],
   "source": [
    "# Compile the neural network\n",
    "model6.compile(optimizer = \"adam\", loss = \"sparse_categorical_crossentropy\", metrics = [\"acc\"])"
   ]
  },
  {
   "cell_type": "code",
   "execution_count": 187,
   "id": "456c9003",
   "metadata": {},
   "outputs": [
    {
     "name": "stdout",
     "output_type": "stream",
     "text": [
      "Epoch 1/5\n",
      "218/218 [==============================] - 50s 227ms/step - loss: 0.6334 - acc: 0.7969 - val_loss: 0.4169 - val_acc: 0.8668\n",
      "Epoch 2/5\n",
      "218/218 [==============================] - 48s 221ms/step - loss: 0.4560 - acc: 0.8584 - val_loss: 0.3664 - val_acc: 0.8849\n",
      "Epoch 3/5\n",
      "218/218 [==============================] - 47s 216ms/step - loss: 0.4337 - acc: 0.8623 - val_loss: 0.3508 - val_acc: 0.9004\n",
      "Epoch 4/5\n",
      "218/218 [==============================] - 48s 222ms/step - loss: 0.4106 - acc: 0.8768 - val_loss: 0.3624 - val_acc: 0.9043\n",
      "Epoch 5/5\n",
      "218/218 [==============================] - 51s 232ms/step - loss: 0.3941 - acc: 0.8934 - val_loss: 0.3441 - val_acc: 0.9094\n"
     ]
    }
   ],
   "source": [
    "# Train the neural network, in here we don't use the scaled down A_train to train the model\n",
    "model6_regularization = model6.fit(X_train1_scaled, Y_train1, validation_split = 0.1, epochs = 5)"
   ]
  },
  {
   "cell_type": "markdown",
   "id": "ebe69bd2",
   "metadata": {},
   "source": [
    "## Model Evaluation"
   ]
  },
  {
   "cell_type": "code",
   "execution_count": 188,
   "id": "4a153ea2",
   "metadata": {},
   "outputs": [
    {
     "name": "stdout",
     "output_type": "stream",
     "text": [
      "27/27 [==============================] - 2s 67ms/step - loss: 0.3783 - acc: 0.8834\n",
      "Test Accuracy For X_train1_scaled With Data Augmentation:  88.3449912071228\n"
     ]
    }
   ],
   "source": [
    "loss, accuracy = model6.evaluate(x_test1_scaled, y_test1)\n",
    "print(\"Test Accuracy For X_train1_scaled With Data Augmentation: \", accuracy * 100)"
   ]
  },
  {
   "cell_type": "code",
   "execution_count": 189,
   "id": "eadcdb85",
   "metadata": {},
   "outputs": [
    {
     "name": "stdout",
     "output_type": "stream",
     "text": [
      "27/27 [==============================] - 2s 63ms/step\n",
      "\n",
      "Classification Report for CNN Model Trained With X_train1_scaled after data augmentation\n",
      "              precision    recall  f1-score   support\n",
      "\n",
      "           0       0.87      0.86      0.87       377\n",
      "           1       0.89      0.90      0.90       481\n",
      "\n",
      "    accuracy                           0.88       858\n",
      "   macro avg       0.88      0.88      0.88       858\n",
      "weighted avg       0.88      0.88      0.88       858\n",
      "\n"
     ]
    }
   ],
   "source": [
    "# Make predictions\n",
    "y_pr4 = model6.predict(x_test1_scaled)\n",
    "\n",
    "# Convert predicted probabilities to class labels\n",
    "y_pred_class_model6 = np.argmax(y_pr4, axis=1)\n",
    "\n",
    "# Create a classification report\n",
    "report6 = classification_report(y_test1, y_pred_class_model6)\n",
    "\n",
    "# Print the report\n",
    "print(\"\\nClassification Report for CNN Model Trained With X_train1_scaled after data augmentation\")\n",
    "print(report6) "
   ]
  },
  {
   "cell_type": "markdown",
   "id": "c78e2843",
   "metadata": {},
   "source": [
    "## Model Training - Convolutional Neural Network (Using Softmax as activation)"
   ]
  },
  {
   "cell_type": "code",
   "execution_count": 190,
   "id": "24a70c48",
   "metadata": {},
   "outputs": [],
   "source": [
    "# Create a sequential model using Keras\n",
    "model8 = keras.Sequential()\n",
    "\n",
    "# Convolutional Layer 1:\n",
    "model8.add(keras.layers.Conv2D(32, kernel_size=(3, 3), activation=\"relu\", input_shape=(128, 128, 3)))\n",
    "model8.add(keras.layers.MaxPooling2D(pool_size=(2, 2)))\n",
    "\n",
    "# Convolutional Layer 2:\n",
    "model8.add(keras.layers.Conv2D(64, kernel_size=(3, 3), activation=\"relu\"))\n",
    "model8.add(keras.layers.MaxPooling2D(pool_size=(2, 2)))\n",
    "\n",
    "# Flatten Layer: Flattens the output from the convolutional layers\n",
    "model8.add(keras.layers.Flatten())\n",
    "\n",
    "# Fully Connected Layer 1:\n",
    "model8.add(keras.layers.Dense(128, activation=\"relu\"))\n",
    "model8.add(keras.layers.Dropout(0.5))  # Apply dropout for regularization\n",
    "\n",
    "# Fully Connected Layer 2:\n",
    "model8.add(keras.layers.Dense(64, activation=\"relu\"))\n",
    "model8.add(keras.layers.Dropout(0.5))  # Apply dropout for regularization\n",
    "\n",
    "# Output Layer:\n",
    "model8.add(keras.layers.Dense(num_of_classes, activation=\"sigmoid\"))\n",
    "\n",
    "# Comments for layers:\n",
    "# - Convolutional layers are used to extract features from the input images.\n",
    "# - MaxPooling layers reduce spatial dimensions to down-sample the feature maps.\n",
    "# - The Flatten layer transforms the 2D feature maps into a 1D vector.\n",
    "# - Dense layers are fully connected layers for further processing.\n",
    "# - Dropout is applied to reduce overfitting by randomly setting a fraction of input units to zero.\n",
    "# - The output layer has as many neurons as there are classes with 'relu' activation."
   ]
  },
  {
   "cell_type": "code",
   "execution_count": 191,
   "id": "3b5729f3",
   "metadata": {},
   "outputs": [],
   "source": [
    "# Compile the neural network\n",
    "model8.compile(optimizer = \"adam\", loss = \"sparse_categorical_crossentropy\", metrics = [\"acc\"])"
   ]
  },
  {
   "cell_type": "code",
   "execution_count": 192,
   "id": "a46cbb39",
   "metadata": {},
   "outputs": [
    {
     "name": "stdout",
     "output_type": "stream",
     "text": [
      "Epoch 1/5\n",
      "214/214 [==============================] - 49s 230ms/step - loss: 0.5157 - acc: 0.7919 - val_loss: 0.3273 - val_acc: 0.8581\n",
      "Epoch 2/5\n",
      "214/214 [==============================] - 46s 214ms/step - loss: 0.3188 - acc: 0.8631 - val_loss: 0.3411 - val_acc: 0.8463\n",
      "Epoch 3/5\n",
      "214/214 [==============================] - 46s 213ms/step - loss: 0.2823 - acc: 0.8803 - val_loss: 0.2914 - val_acc: 0.8909\n",
      "Epoch 4/5\n",
      "214/214 [==============================] - 46s 213ms/step - loss: 0.2267 - acc: 0.9075 - val_loss: 0.3094 - val_acc: 0.8909\n",
      "Epoch 5/5\n",
      "214/214 [==============================] - 45s 212ms/step - loss: 0.1961 - acc: 0.9206 - val_loss: 0.2806 - val_acc: 0.9106\n"
     ]
    }
   ],
   "source": [
    "# Train the neural network\n",
    "model8_softmax = model8.fit(x_train_scaled, y_train, validation_split = 0.1, epochs = 5)"
   ]
  },
  {
   "cell_type": "markdown",
   "id": "e9d9bdcc",
   "metadata": {},
   "source": [
    "## Model Evaluation"
   ]
  },
  {
   "cell_type": "code",
   "execution_count": 193,
   "id": "e0c5c9cd",
   "metadata": {},
   "outputs": [
    {
     "name": "stdout",
     "output_type": "stream",
     "text": [
      "60/60 [==============================] - 4s 63ms/step - loss: 0.2386 - acc: 0.9127\n",
      "Test Accuracy For x_train_scaled After Using Softmax As Activation:  91.2677526473999\n"
     ]
    }
   ],
   "source": [
    "loss, accuracy = model8.evaluate(X_test_scaled, Y_test)\n",
    "print(\"Test Accuracy For x_train_scaled After Using Softmax As Activation: \", accuracy * 100)"
   ]
  },
  {
   "cell_type": "code",
   "execution_count": 194,
   "id": "bb01f45a",
   "metadata": {},
   "outputs": [
    {
     "name": "stdout",
     "output_type": "stream",
     "text": [
      "60/60 [==============================] - 4s 62ms/step\n",
      "\n",
      "Classification Report for CNN Model Trained With x_train_scaled After Using Softmax As Activation\n",
      "\n",
      "              precision    recall  f1-score   support\n",
      "\n",
      "           0       0.81      0.76      0.79       768\n",
      "           1       0.82      0.86      0.84       948\n",
      "\n",
      "    accuracy                           0.81      1716\n",
      "   macro avg       0.81      0.81      0.81      1716\n",
      "weighted avg       0.81      0.81      0.81      1716\n",
      "\n"
     ]
    }
   ],
   "source": [
    "# Make predictions\n",
    "y_pr6 = model8.predict(X_test_scaled)\n",
    "\n",
    "# Convert predicted probabilities to class labels\n",
    "y_pred_class_model8 = np.argmax(y_pr6, axis=1)\n",
    "\n",
    "# Create a classification report\n",
    "report8 = classification_report(Y_test, y_pred_class_model8)\n",
    "\n",
    "# Print the report\n",
    "print(\"\\nClassification Report for CNN Model Trained With x_train_scaled After Using Softmax As Activation\\n\")\n",
    "print(report7) "
   ]
  },
  {
   "cell_type": "markdown",
   "id": "cc6cbec9",
   "metadata": {},
   "source": [
    "## Summary"
   ]
  },
  {
   "cell_type": "code",
   "execution_count": 195,
   "id": "92027ab9",
   "metadata": {
    "scrolled": false
   },
   "outputs": [
    {
     "name": "stdout",
     "output_type": "stream",
     "text": [
      "54/54 [==============================] - 4s 70ms/step - loss: 0.3071 - acc: 0.8735\n",
      "Test Accuracy For A_train_scaled Before Data Undersampling:  87.35431432723999\n",
      "\n",
      "\n",
      "54/54 [==============================] - 4s 68ms/step - loss: 0.3071 - acc: 0.8735\n",
      "Test Accuracy For X_train_scaled Before Data Resampling:  87.35431432723999\n",
      "\n",
      "\n",
      "48/48 [==============================] - 3s 64ms/step - loss: 0.3127 - acc: 0.8701\n",
      "Test Accuracy For A_train_scaled After Data Undersampling:  87.0104432106018\n",
      "\n",
      "\n",
      "60/60 [==============================] - 4s 64ms/step - loss: 0.2420 - acc: 0.9022\n",
      "Test Accuracy For x_train_scaled After Data Resampling:  90.21567702293396\n",
      "\n",
      "\n",
      "54/54 [==============================] - 3s 60ms/step - loss: 0.6678 - acc: 0.6719\n",
      "Test Accuracy For A_train Before Data Undersampling:  67.19114184379578\n",
      "\n",
      "\n",
      "54/54 [==============================] - 3s 64ms/step - loss: 0.6678 - acc: 0.6719\n",
      "Test Accuracy For X_train Before Data Resampling:  67.19114184379578\n",
      "\n",
      "\n",
      "48/48 [==============================] - 3s 63ms/step - loss: 0.6820 - acc: 0.5666\n",
      "Test Accuracy For A_train After Data Undersampling:  56.65796399116516\n",
      "\n",
      "\n",
      "60/60 [==============================] - 4s 70ms/step - loss: 0.5552 - acc: 0.7401\n",
      "Test Accuracy For x_train After Data Resampling:  74.01367425918579\n",
      "\n",
      "\n",
      "54/54 [==============================] - 4s 68ms/step - loss: 0.3256 - acc: 0.8666\n",
      "Test Accuracy For X_train With Data Augmentation With Train Test Split 8:2 :  86.6550087928772\n",
      "\n",
      "\n",
      "27/27 [==============================] - 2s 67ms/step - loss: 0.3136 - acc: 0.8695\n",
      "Test Accuracy For X_train1 With Data Augmentation With Train Test Split 9:1 :  86.9463860988617\n",
      "\n",
      "\n",
      "54/54 [==============================] - 4s 67ms/step - loss: 0.4237 - acc: 0.8753\n",
      "Test Accuracy For X_train After Regularization With Train Test Split 8:2:  87.52913475036621\n",
      "\n",
      "\n",
      "27/27 [==============================] - 2s 69ms/step - loss: 0.3783 - acc: 0.8834\n",
      "Test Accuracy For X_train1 After Regularization With Train Test Split 9:1 :  88.3449912071228\n",
      "\n",
      "\n",
      "54/54 [==============================] - 4s 69ms/step - loss: 0.3071 - acc: 0.8735\n",
      "Test Accuracy For X_train_scaled With Color Mode Of RGB:  87.35431432723999\n",
      "\n",
      "\n",
      "54/54 [==============================] - 3s 63ms/step - loss: 0.4117 - acc: 0.8147\n",
      "Test Accuracy For Xtrain_scaled With Color Mode Of GrayScale:  81.46852850914001\n",
      "\n",
      "\n",
      "60/60 [==============================] - 4s 67ms/step - loss: 0.2420 - acc: 0.9022\n",
      "Test Accuracy For x_train_scaled Using Sigmoid As Activation:  90.21567702293396\n",
      "\n",
      "\n",
      "60/60 [==============================] - 5s 80ms/step - loss: 0.2386 - acc: 0.9127\n",
      "Test Accuracy For x_train_scaled Using Softmax As Activation:  91.2677526473999\n"
     ]
    }
   ],
   "source": [
    "# This accuracy is for scaled down A_train (before data undersampling)\n",
    "loss, accuracy = model.evaluate(x_test_scaled, y_test)\n",
    "print(\"Test Accuracy For A_train_scaled Before Data Undersampling: \", accuracy * 100)\n",
    "\n",
    "print(\"\\n\")\n",
    "\n",
    "# This accuracy is for scaled down X_train (before data resampling)\n",
    "loss, accuracy = model.evaluate(x_test_scaled, y_test)\n",
    "print(\"Test Accuracy For X_train_scaled Before Data Resampling: \", accuracy * 100)\n",
    "\n",
    "print(\"\\n\")\n",
    "\n",
    "# This accuracy is for scaled down A_train (after data undersampling)\n",
    "loss, accuracy = model1.evaluate(a_test_scaled, b_test)\n",
    "print(\"Test Accuracy For A_train_scaled After Data Undersampling: \", accuracy * 100)\n",
    "\n",
    "print(\"\\n\")\n",
    "\n",
    "# This accuracy is for scaled down x_train (after data resampling)\n",
    "loss, accuracy = mdl.evaluate(X_test_scaled, Y_test)\n",
    "print(\"Test Accuracy For x_train_scaled After Data Resampling: \", accuracy * 100)\n",
    "\n",
    "print(\"\\n\")\n",
    "\n",
    "# This accuracy is for not scale down A_train (before data undersampling)\n",
    "loss, accuracy = m1.evaluate(x_test, y_test)\n",
    "print(\"Test Accuracy For A_train Before Data Undersampling: \", accuracy * 100)\n",
    "\n",
    "print(\"\\n\")\n",
    "\n",
    "# This accuracy is for not scale down X_train (before data resampling)\n",
    "loss, accuracy = m1.evaluate(x_test, y_test)\n",
    "print(\"Test Accuracy For X_train Before Data Resampling: \", accuracy * 100)\n",
    "\n",
    "print(\"\\n\")\n",
    "\n",
    "# This accuracy is for not scale down A_train (after data undersampling)\n",
    "loss, accuracy = model2.evaluate(a_test, b_test)\n",
    "print(\"Test Accuracy For A_train After Data Undersampling: \", accuracy * 100)\n",
    "\n",
    "print(\"\\n\")\n",
    "\n",
    "# This accuracy is for not scale down x_train (after data resampling)\n",
    "loss, accuracy = m.evaluate(X_test, Y_test)\n",
    "print(\"Test Accuracy For x_train After Data Resampling: \", accuracy * 100)\n",
    "\n",
    "print(\"\\n\")\n",
    "\n",
    "# This accuracy is for scaled down X_train (after data augmentation)\n",
    "loss, accuracy = model3.evaluate(x_test_scaled, y_test)\n",
    "print(\"Test Accuracy For X_train With Data Augmentation With Train Test Split 8:2 : \", accuracy * 100)\n",
    "\n",
    "print(\"\\n\")\n",
    "\n",
    "# This accuracy is for scaled down X_train (after data augmentation)\n",
    "loss, accuracy = model4.evaluate(x_test1_scaled, y_test1)\n",
    "print(\"Test Accuracy For X_train1 With Data Augmentation With Train Test Split 9:1 : \", accuracy * 100)\n",
    "\n",
    "print(\"\\n\")\n",
    "\n",
    "# This accuracy is for scaled down X_train (after data augmentation)\n",
    "loss, accuracy = model5.evaluate(x_test_scaled, y_test)\n",
    "print(\"Test Accuracy For X_train After Regularization With Train Test Split 8:2: \", accuracy * 100)\n",
    "\n",
    "print(\"\\n\")\n",
    "\n",
    "# This accuracy is for scaled down X_train (after data augmentation)\n",
    "loss, accuracy = model6.evaluate(x_test1_scaled, y_test1)\n",
    "print(\"Test Accuracy For X_train1 After Regularization With Train Test Split 9:1 : \", accuracy * 100)\n",
    "\n",
    "print(\"\\n\")\n",
    "\n",
    "# This accuracy is for scaled down X_train (with color mode of rgb)\n",
    "loss, accuracy = model.evaluate(x_test_scaled, y_test)\n",
    "print(\"Test Accuracy For X_train_scaled With Color Mode Of RGB: \", accuracy * 100)\n",
    "\n",
    "print(\"\\n\")\n",
    "\n",
    "# This accuracy is for scaled down Xtrain (with color mode of grayscale)\n",
    "loss, accuracy = model7.evaluate(xtest_scaled, ytest)\n",
    "print(\"Test Accuracy For Xtrain_scaled With Color Mode Of GrayScale: \", accuracy * 100)\n",
    "\n",
    "print(\"\\n\")\n",
    "\n",
    "# This accuracy is for scaled down x_train (using sigmoid as activation)\n",
    "loss, accuracy = mdl.evaluate(X_test_scaled, Y_test)\n",
    "print(\"Test Accuracy For x_train_scaled Using Sigmoid As Activation: \", accuracy * 100)\n",
    "\n",
    "print(\"\\n\")\n",
    "\n",
    "# This accuracy is for scaled down x_train (using softmax as activation)\n",
    "loss, accuracy = model8.evaluate(X_test_scaled, Y_test)\n",
    "print(\"Test Accuracy For x_train_scaled Using Softmax As Activation: \", accuracy * 100)"
   ]
  },
  {
   "cell_type": "markdown",
   "id": "e4052815",
   "metadata": {},
   "source": [
    "## Model Deployment Using Streamlit"
   ]
  },
  {
   "cell_type": "code",
   "execution_count": 198,
   "id": "c017bd89",
   "metadata": {},
   "outputs": [],
   "source": [
    "mdl.save(\"mdl.h5\")"
   ]
  },
  {
   "cell_type": "markdown",
   "id": "eeab475b",
   "metadata": {},
   "source": [
    "## Predictive System"
   ]
  },
  {
   "cell_type": "code",
   "execution_count": 196,
   "id": "a361c346",
   "metadata": {},
   "outputs": [],
   "source": [
    "# import cv2\n",
    "# input_image_path = \"/Users/_fangkhai/Documents/Academic/Computer Science Semester 7/Image Processing and Computer Vision/Materials/Assignment Dataset/Test Data/test1.jpg\"\n",
    "\n",
    "# input_image = cv2.imread(input_image_path)\n",
    "\n",
    "# cv2.imshow('Input Image', input_image)\n",
    "\n",
    "# input_image_resized = cv2.resize(input_image, (128, 128))\n",
    "\n",
    "# input_image_scaled = input_image_resized / 255\n",
    "\n",
    "# input_image_reshaped = np.reshape(input_image_scaled, [1, 128, 128, 3])\n",
    "\n",
    "# input_prediction = mdl.predict(input_image_reshaped)\n",
    "\n",
    "# input_pred_label = np.argmax(input_prediction)\n",
    "\n",
    "# if input_pred_label == 1:\n",
    "#     print('\\nThe person in the image is wearing a mask')\n",
    "# else:\n",
    "#     print('\\nThe person in the image is not wearing a mask')"
   ]
  }
 ],
 "metadata": {
  "kernelspec": {
   "display_name": "Python 3 (ipykernel)",
   "language": "python",
   "name": "python3"
  },
  "language_info": {
   "codemirror_mode": {
    "name": "ipython",
    "version": 3
   },
   "file_extension": ".py",
   "mimetype": "text/x-python",
   "name": "python",
   "nbconvert_exporter": "python",
   "pygments_lexer": "ipython3",
   "version": "3.11.4"
  }
 },
 "nbformat": 4,
 "nbformat_minor": 5
}
